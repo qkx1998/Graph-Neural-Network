{
 "cells": [
  {
   "cell_type": "code",
   "execution_count": 6,
   "id": "12a116bb",
   "metadata": {},
   "outputs": [],
   "source": [
    "import dgl \n",
    "import torch as th\n",
    "\n",
    "g = dgl.graph(([0, 0, 1, 5], [1, 2, 2, 0]))"
   ]
  },
  {
   "cell_type": "code",
   "execution_count": 7,
   "id": "ba3c6d2a",
   "metadata": {},
   "outputs": [
    {
     "data": {
      "text/plain": [
       "tensor([0, 1, 2, 3, 4, 5])"
      ]
     },
     "execution_count": 7,
     "metadata": {},
     "output_type": "execute_result"
    }
   ],
   "source": [
    "g.nodes() #为啥默认会生成到5这个最大节点 包括了 3 4"
   ]
  },
  {
   "cell_type": "code",
   "execution_count": 8,
   "id": "89704460",
   "metadata": {},
   "outputs": [
    {
     "data": {
      "text/plain": [
       "(tensor([0, 0, 1, 5]), tensor([1, 2, 2, 0]))"
      ]
     },
     "execution_count": 8,
     "metadata": {},
     "output_type": "execute_result"
    }
   ],
   "source": [
    "g.edges()"
   ]
  },
  {
   "cell_type": "code",
   "execution_count": 9,
   "id": "06088535",
   "metadata": {},
   "outputs": [
    {
     "data": {
      "text/plain": [
       "6"
      ]
     },
     "execution_count": 9,
     "metadata": {},
     "output_type": "execute_result"
    }
   ],
   "source": [
    "g.num_nodes() # 节点数量"
   ]
  },
  {
   "cell_type": "code",
   "execution_count": 11,
   "id": "2f2cedac",
   "metadata": {},
   "outputs": [
    {
     "data": {
      "text/plain": [
       "tensor([[1., 1., 1.],\n",
       "        [1., 1., 1.],\n",
       "        [1., 1., 1.],\n",
       "        [1., 1., 1.],\n",
       "        [1., 1., 1.],\n",
       "        [1., 1., 1.]])"
      ]
     },
     "execution_count": 11,
     "metadata": {},
     "output_type": "execute_result"
    }
   ],
   "source": [
    "th.ones(6, 3)"
   ]
  },
  {
   "cell_type": "code",
   "execution_count": 12,
   "id": "53428a94",
   "metadata": {},
   "outputs": [],
   "source": [
    "# 长度为3的节点特征\n",
    "g.ndata['x'] = th.ones(g.num_nodes(), 3)"
   ]
  },
  {
   "cell_type": "code",
   "execution_count": 13,
   "id": "2b9b8a9b",
   "metadata": {},
   "outputs": [
    {
     "data": {
      "text/plain": [
       "{'x': tensor([[1., 1., 1.],\n",
       "        [1., 1., 1.],\n",
       "        [1., 1., 1.],\n",
       "        [1., 1., 1.],\n",
       "        [1., 1., 1.],\n",
       "        [1., 1., 1.]])}"
      ]
     },
     "execution_count": 13,
     "metadata": {},
     "output_type": "execute_result"
    }
   ],
   "source": [
    "g.ndata"
   ]
  },
  {
   "cell_type": "code",
   "execution_count": 14,
   "id": "0cb3f2de",
   "metadata": {},
   "outputs": [
    {
     "data": {
      "text/plain": [
       "tensor([1, 1, 1, 1, 1, 1], dtype=torch.int32)"
      ]
     },
     "execution_count": 14,
     "metadata": {},
     "output_type": "execute_result"
    }
   ],
   "source": [
    "th.ones(6, dtype=th.int32)"
   ]
  },
  {
   "cell_type": "code",
   "execution_count": 15,
   "id": "90c38c23",
   "metadata": {},
   "outputs": [],
   "source": [
    "# 标量整型特征\n",
    "g.edata['x'] = th.ones(g.num_edges(), dtype=th.int32)"
   ]
  },
  {
   "cell_type": "code",
   "execution_count": 16,
   "id": "0e594d4c",
   "metadata": {},
   "outputs": [
    {
     "data": {
      "text/plain": [
       "Graph(num_nodes=6, num_edges=4,\n",
       "      ndata_schemes={'x': Scheme(shape=(3,), dtype=torch.float32)}\n",
       "      edata_schemes={'x': Scheme(shape=(), dtype=torch.int32)})"
      ]
     },
     "execution_count": 16,
     "metadata": {},
     "output_type": "execute_result"
    }
   ],
   "source": [
    "g"
   ]
  },
  {
   "cell_type": "code",
   "execution_count": 17,
   "id": "0ef2572b",
   "metadata": {},
   "outputs": [],
   "source": [
    "# 不同名称的特征可以具有不同形状\n",
    "g.ndata['y'] = th.randn(g.num_nodes(), 5)"
   ]
  },
  {
   "cell_type": "code",
   "execution_count": 20,
   "id": "83c0c8ef",
   "metadata": {},
   "outputs": [
    {
     "data": {
      "text/plain": [
       "tensor([1., 1., 1.])"
      ]
     },
     "execution_count": 20,
     "metadata": {},
     "output_type": "execute_result"
    }
   ],
   "source": [
    "# 获取节点1的x特征\n",
    "g.ndata['x'][1]"
   ]
  },
  {
   "cell_type": "code",
   "execution_count": 22,
   "id": "e29d77a2",
   "metadata": {},
   "outputs": [
    {
     "data": {
      "text/plain": [
       "tensor([1, 1], dtype=torch.int32)"
      ]
     },
     "execution_count": 22,
     "metadata": {},
     "output_type": "execute_result"
    }
   ],
   "source": [
    "# 获取边 0-3 的x特征\n",
    "g.edata['x'][th.tensor([0, 3])]"
   ]
  },
  {
   "cell_type": "markdown",
   "id": "902b19c1",
   "metadata": {},
   "source": [
    "对于加权图，可以通过给边添加权重特征来完成权重的赋值"
   ]
  },
  {
   "cell_type": "code",
   "execution_count": 25,
   "id": "f288b4a7",
   "metadata": {},
   "outputs": [
    {
     "data": {
      "text/plain": [
       "(tensor([0, 0, 1, 5]), tensor([1, 2, 2, 0]))"
      ]
     },
     "execution_count": 25,
     "metadata": {},
     "output_type": "execute_result"
    }
   ],
   "source": [
    "g.edges()"
   ]
  },
  {
   "cell_type": "code",
   "execution_count": 27,
   "id": "55cb03ab",
   "metadata": {},
   "outputs": [],
   "source": [
    "weights = th.tensor([0.1, 0.2, 0.5, 0.8])"
   ]
  },
  {
   "cell_type": "code",
   "execution_count": 28,
   "id": "e9be60f2",
   "metadata": {},
   "outputs": [],
   "source": [
    "g.edata['w'] = weights"
   ]
  },
  {
   "cell_type": "code",
   "execution_count": 29,
   "id": "ae8d1b3e",
   "metadata": {},
   "outputs": [
    {
     "data": {
      "text/plain": [
       "Graph(num_nodes=6, num_edges=4,\n",
       "      ndata_schemes={'x': Scheme(shape=(3,), dtype=torch.float32), 'y': Scheme(shape=(5,), dtype=torch.float32)}\n",
       "      edata_schemes={'x': Scheme(shape=(), dtype=torch.int32), 'w': Scheme(shape=(), dtype=torch.float32)})"
      ]
     },
     "execution_count": 29,
     "metadata": {},
     "output_type": "execute_result"
    }
   ],
   "source": [
    "g"
   ]
  },
  {
   "cell_type": "code",
   "execution_count": null,
   "id": "fb704d11",
   "metadata": {},
   "outputs": [],
   "source": []
  }
 ],
 "metadata": {
  "kernelspec": {
   "display_name": "DGL",
   "language": "python",
   "name": "dgl"
  },
  "language_info": {
   "codemirror_mode": {
    "name": "ipython",
    "version": 3
   },
   "file_extension": ".py",
   "mimetype": "text/x-python",
   "name": "python",
   "nbconvert_exporter": "python",
   "pygments_lexer": "ipython3",
   "version": "3.8.5"
  }
 },
 "nbformat": 4,
 "nbformat_minor": 5
}
