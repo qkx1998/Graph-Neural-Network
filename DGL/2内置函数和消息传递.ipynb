{
 "cells": [
  {
   "cell_type": "code",
   "execution_count": 9,
   "id": "71da5967",
   "metadata": {},
   "outputs": [],
   "source": [
    "import dgl\n",
    "import torch as th"
   ]
  },
  {
   "cell_type": "markdown",
   "id": "0bb96fe4",
   "metadata": {},
   "source": [
    "dgl的内置函数列表可参考： https://docs.dgl.ai/api/python/dgl.function.html#api-built-in"
   ]
  },
  {
   "cell_type": "code",
   "execution_count": 6,
   "id": "b65c4156",
   "metadata": {},
   "outputs": [],
   "source": [
    "# 用户自定义的消息函数 等价于 dgl.function.u_add_v('hu', 'hv', 'he')\n",
    "def message_func(edges):\n",
    "     return {'he': edges.src['hu'] + edges.dst['hv']}\n",
    "    \n",
    "# 用户自定义的聚合函数 等价于 dgl.function.sum('m', 'h')\n",
    "def reduce_func(nodes):\n",
    "     return {'h': th.sum(nodes.mailbox['m'], dim=1)}"
   ]
  },
  {
   "cell_type": "markdown",
   "id": "47833561",
   "metadata": {},
   "source": [
    "在DGL中，也可以在不涉及消息传递的情况下，通过 apply_edges() 单独调用逐边计算。  \n",
    "apply_edges() 的参数是一个消息函数。并且在默认情况下，这个接口将更新所有的边。"
   ]
  },
  {
   "cell_type": "code",
   "execution_count": 8,
   "id": "c9f2f4c2",
   "metadata": {},
   "outputs": [],
   "source": [
    "# import dgl.function as fn\n",
    "\n",
    "# graph.apply_edges(fn.u_add_v('el', 'er', 'e'))"
   ]
  },
  {
   "cell_type": "markdown",
   "id": "a122b1b4",
   "metadata": {},
   "source": [
    "对于消息传递， update_all() 是一个高级API。  \n",
    "**它在单个API调用里合并了消息生成、 消息聚合和节点特征更新**，这为从整体上进行系统优化提供了空间。  \n",
    "update_all() 的参数是**一个消息函数、一个聚合函数和一个更新函数**。   \n",
    "更新函数是一个可选择的参数，用户也可以不使用它，而是在 update_all 执行完后直接对节点特征进行操作。   \n",
    "由于更新函数通常可以用纯张量操作实现，所以DGL不推荐在 update_all 中指定更新函数。例如："
   ]
  },
  {
   "cell_type": "code",
   "execution_count": 10,
   "id": "8d37c41e",
   "metadata": {},
   "outputs": [],
   "source": [
    "'''\n",
    "此调用通过将源节点特征 ft 与边特征 a 相乘生成消息 m， 然后对所有消息求和来更新节点特征 ft，再将 ft 乘以2得到最终结果 final_ft。\n",
    "'''\n",
    "\n",
    "def update_all_example(graph):\n",
    "    # 在graph.ndata['ft']中存储结果\n",
    "    graph.update_all(fn.u_mul_e('ft', 'a', 'm'),\n",
    "                     fn.sum('m', 'ft'))\n",
    "    # 在update_all外调用更新函数\n",
    "    final_ft = graph.ndata['ft'] * 2\n",
    "    return final_ft"
   ]
  },
  {
   "cell_type": "code",
   "execution_count": null,
   "id": "1ac59ec6",
   "metadata": {},
   "outputs": [],
   "source": []
  }
 ],
 "metadata": {
  "kernelspec": {
   "display_name": "DGL",
   "language": "python",
   "name": "dgl"
  },
  "language_info": {
   "codemirror_mode": {
    "name": "ipython",
    "version": 3
   },
   "file_extension": ".py",
   "mimetype": "text/x-python",
   "name": "python",
   "nbconvert_exporter": "python",
   "pygments_lexer": "ipython3",
   "version": "3.8.5"
  }
 },
 "nbformat": 4,
 "nbformat_minor": 5
}
