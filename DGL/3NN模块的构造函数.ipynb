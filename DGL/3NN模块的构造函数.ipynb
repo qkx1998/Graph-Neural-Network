{
 "cells": [
  {
   "cell_type": "code",
   "execution_count": 1,
   "id": "8fd1dff5",
   "metadata": {},
   "outputs": [
    {
     "data": {
      "text/plain": [
       "'\\n在构造NN模块时，我们需要达到以下几个目的：\\n1 设置选项\\n2 注册可学习的参数或者子模块\\n3 初始化参数\\n'"
      ]
     },
     "execution_count": 1,
     "metadata": {},
     "output_type": "execute_result"
    }
   ],
   "source": [
    "'''\n",
    "在构造NN模块时，我们需要达到以下几个目的：\n",
    "1 设置选项\n",
    "2 注册可学习的参数或者子模块\n",
    "3 初始化参数\n",
    "'''"
   ]
  },
  {
   "cell_type": "code",
   "execution_count": 5,
   "id": "af092599",
   "metadata": {},
   "outputs": [],
   "source": [
    "import torch.nn as nn\n",
    "from dgl.utils import expand_as_pair\n",
    "import dgl.function as fn\n",
    "import torch.nn.functional as F\n",
    "from dgl.utils import check_eq_shape"
   ]
  },
  {
   "cell_type": "markdown",
   "id": "bdc2f753",
   "metadata": {},
   "source": [
    "在构造函数中，用户首先需要设置数据的维度。  \n",
    "对于一般的PyTorch模块，维度通常包括输入的维度、输出的维度和隐层的维度。  \n",
    "对于图神经网络，输入维度可被分为**源节点特征维度和目标节点特征维度**。"
   ]
  },
  {
   "cell_type": "markdown",
   "id": "2d10c72c",
   "metadata": {},
   "source": [
    "除了数据维度，图神经网络的一个典型选项是**聚合类型**(self._aggre_type)。  \n",
    "对于特定目标节点，聚合类型决定了如何聚合不同边上的信息。   \n",
    "常用的聚合类型包括 mean、 sum、 max 和 min。一些模块可能会使用更加复杂的聚合函数，比如 lstm。"
   ]
  },
  {
   "cell_type": "code",
   "execution_count": 8,
   "id": "746dce59",
   "metadata": {},
   "outputs": [],
   "source": [
    "class SAGEConv(nn.Module):\n",
    "    '''设置选项'''\n",
    "    def __init__(self,\n",
    "                 #输入\n",
    "                 in_feats,\n",
    "                 #输出\n",
    "                 out_feats,\n",
    "                 #聚合类型\n",
    "                 aggregator_type,\n",
    "                 bias=True,\n",
    "                 #特征归一化\n",
    "                 norm=None,\n",
    "                 activation=None):\n",
    "        super(SAGEConv, self).__init__()\n",
    "        \n",
    "        #将输入拆分为源节点和目标节点\n",
    "        self._in_src_feats, self._in_dst_feats = expand_as_pair(in_feats)\n",
    "        self._out_feats = out_feats\n",
    "        self._aggre_type = aggregator_type\n",
    "        self.norm = norm\n",
    "        self.activation = activation\n",
    "        \n",
    "        # 聚合类型：mean、pool、lstm、gcn\n",
    "        if aggregator_type not in ['mean', 'pool', 'lstm', 'gcn']:\n",
    "            raise KeyError('Aggregator type {} not supported.'.format(aggregator_type))\n",
    "        if aggregator_type == 'pool':\n",
    "            self.fc_pool = nn.Linear(self._in_src_feats, self._in_src_feats)\n",
    "        if aggregator_type == 'lstm':\n",
    "            self.lstm = nn.LSTM(self._in_src_feats, self._in_src_feats, batch_first=True)\n",
    "        if aggregator_type in ['mean', 'pool', 'lstm']:\n",
    "            self.fc_self = nn.Linear(self._in_dst_feats, out_feats, bias=bias)\n",
    "        self.fc_neigh = nn.Linear(self._in_src_feats, out_feats, bias=bias)\n",
    "        self.reset_parameters()\n",
    "        \n",
    "        \n",
    "    '''注册参数和子模块'''\n",
    "    def reset_parameters(self):\n",
    "        \"\"\"重新初始化可学习的参数\"\"\"\n",
    "        gain = nn.init.calculate_gain('relu')\n",
    "        if self._aggre_type == 'pool':\n",
    "            nn.init.xavier_uniform_(self.fc_pool.weight, gain=gain)\n",
    "        if self._aggre_type == 'lstm':\n",
    "            self.lstm.reset_parameters()\n",
    "        if self._aggre_type != 'gcn':\n",
    "            nn.init.xavier_uniform_(self.fc_self.weight, gain=gain)\n",
    "        nn.init.xavier_uniform_(self.fc_neigh.weight, gain=gain)\n",
    "        \n",
    "        \n",
    "    '''forward函数'''\n",
    "    def forward(self, graph, feat):\n",
    "        with graph.local_scope():\n",
    "            # 指定图类型，然后根据图类型扩展输入特征\n",
    "            feat_src, feat_dst = expand_as_pair(feat, graph)\n",
    "            \n",
    "        '''消息传递和聚合'''\n",
    "        if self._aggre_type == 'mean':\n",
    "            graph.srcdata['h'] = feat_src\n",
    "            graph.update_all(fn.copy_u('h', 'm'), fn.mean('m', 'neigh'))\n",
    "            h_neigh = graph.dstdata['neigh']\n",
    "        elif self._aggre_type == 'gcn':\n",
    "            check_eq_shape(feat)\n",
    "            graph.srcdata['h'] = feat_src\n",
    "            graph.dstdata['h'] = feat_dst\n",
    "            graph.update_all(fn.copy_u('h', 'm'), fn.sum('m', 'neigh'))\n",
    "            # 除以入度\n",
    "            degs = graph.in_degrees().to(feat_dst)\n",
    "            h_neigh = (graph.dstdata['neigh'] + graph.dstdata['h']) / (degs.unsqueeze(-1) + 1)\n",
    "        elif self._aggre_type == 'pool':\n",
    "            graph.srcdata['h'] = F.relu(self.fc_pool(feat_src))\n",
    "            graph.update_all(fn.copy_u('h', 'm'), fn.max('m', 'neigh'))\n",
    "            h_neigh = graph.dstdata['neigh']\n",
    "        else:\n",
    "            raise KeyError('Aggregator type {} not recognized.'.format(self._aggre_type))\n",
    "\n",
    "        # GraphSAGE中gcn聚合不需要fc_self\n",
    "        if self._aggre_type == 'gcn':\n",
    "            rst = self.fc_neigh(h_neigh)\n",
    "        else:\n",
    "            rst = self.fc_self(h_self) + self.fc_neigh(h_neigh)\n",
    "        \n",
    "        '''聚合后，更新特征作为输出'''\n",
    "        # 激活函数\n",
    "        if self.activation is not None:\n",
    "            rst = self.activation(rst)\n",
    "        # 归一化\n",
    "        if self.norm is not None:\n",
    "            rst = self.norm(rst)\n",
    "        return rst"
   ]
  },
  {
   "cell_type": "code",
   "execution_count": null,
   "id": "52be9dc0",
   "metadata": {},
   "outputs": [],
   "source": []
  }
 ],
 "metadata": {
  "kernelspec": {
   "display_name": "DGL",
   "language": "python",
   "name": "dgl"
  },
  "language_info": {
   "codemirror_mode": {
    "name": "ipython",
    "version": 3
   },
   "file_extension": ".py",
   "mimetype": "text/x-python",
   "name": "python",
   "nbconvert_exporter": "python",
   "pygments_lexer": "ipython3",
   "version": "3.8.5"
  }
 },
 "nbformat": 4,
 "nbformat_minor": 5
}
