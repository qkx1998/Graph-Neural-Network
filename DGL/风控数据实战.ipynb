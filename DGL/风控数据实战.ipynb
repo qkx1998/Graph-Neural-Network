{
 "cells": [
  {
   "cell_type": "code",
   "execution_count": 1,
   "id": "exclusive-singer",
   "metadata": {
    "_cell_guid": "b1076dfc-b9ad-4769-8c92-a6c4dae69d19",
    "_uuid": "8f2839f25d086af736a60e9eeb907d3b93b6e0e5",
    "execution": {
     "iopub.execute_input": "2021-05-08T04:27:30.846822Z",
     "iopub.status.busy": "2021-05-08T04:27:30.846281Z",
     "iopub.status.idle": "2021-05-08T04:27:30.863405Z",
     "shell.execute_reply": "2021-05-08T04:27:30.863838Z"
    },
    "papermill": {
     "duration": 0.043719,
     "end_time": "2021-05-08T04:27:30.864106",
     "exception": false,
     "start_time": "2021-05-08T04:27:30.820387",
     "status": "completed"
    },
    "tags": []
   },
   "outputs": [
    {
     "name": "stdout",
     "output_type": "stream",
     "text": [
      "/kaggle/input/fork-of-credit-card-fraud-detection-models-e29c93/__results__.html\n",
      "/kaggle/input/fork-of-credit-card-fraud-detection-models-e29c93/credit-card_feat.csv\n",
      "/kaggle/input/fork-of-credit-card-fraud-detection-models-e29c93/__notebook__.ipynb\n",
      "/kaggle/input/fork-of-credit-card-fraud-detection-models-e29c93/__output__.json\n",
      "/kaggle/input/fork-of-credit-card-fraud-detection-models-e29c93/custom.css\n"
     ]
    }
   ],
   "source": [
    "# This Python 3 environment comes with many helpful analytics libraries installed\n",
    "# It is defined by the kaggle/python Docker image: https://github.com/kaggle/docker-python\n",
    "# For example, here's several helpful packages to load\n",
    "\n",
    "import numpy as np # linear algebra\n",
    "import pandas as pd # data processing, CSV file I/O (e.g. pd.read_csv)\n",
    "\n",
    "# Input data files are available in the read-only \"../input/\" directory\n",
    "# For example, running this (by clicking run or pressing Shift+Enter) will list all files under the input directory\n",
    "\n",
    "import os\n",
    "for dirname, _, filenames in os.walk('/kaggle/input'):\n",
    "    for filename in filenames:\n",
    "        print(os.path.join(dirname, filename))\n",
    "\n",
    "# You can write up to 20GB to the current directory (/kaggle/working/) that gets preserved as output when you create a version using \"Save & Run All\" \n",
    "# You can also write temporary files to /kaggle/temp/, but they won't be saved outside of the current session"
   ]
  },
  {
   "cell_type": "code",
   "execution_count": 2,
   "id": "turkish-hurricane",
   "metadata": {
    "execution": {
     "iopub.execute_input": "2021-05-08T04:27:30.900884Z",
     "iopub.status.busy": "2021-05-08T04:27:30.900392Z",
     "iopub.status.idle": "2021-05-08T04:27:30.904654Z",
     "shell.execute_reply": "2021-05-08T04:27:30.904247Z"
    },
    "papermill": {
     "duration": 0.023939,
     "end_time": "2021-05-08T04:27:30.904758",
     "exception": false,
     "start_time": "2021-05-08T04:27:30.880819",
     "status": "completed"
    },
    "tags": []
   },
   "outputs": [],
   "source": [
    "#https://docs.dgl.ai/guide/training-edge.html"
   ]
  },
  {
   "cell_type": "code",
   "execution_count": 3,
   "id": "julian-trouble",
   "metadata": {
    "execution": {
     "iopub.execute_input": "2021-05-08T04:27:30.941354Z",
     "iopub.status.busy": "2021-05-08T04:27:30.940790Z",
     "iopub.status.idle": "2021-05-08T04:27:41.095066Z",
     "shell.execute_reply": "2021-05-08T04:27:41.093440Z"
    },
    "papermill": {
     "duration": 10.175095,
     "end_time": "2021-05-08T04:27:41.095237",
     "exception": false,
     "start_time": "2021-05-08T04:27:30.920142",
     "status": "completed"
    },
    "tags": []
   },
   "outputs": [
    {
     "name": "stdout",
     "output_type": "stream",
     "text": [
      "Collecting dgl\r\n",
      "  Downloading dgl-0.6.1-cp37-cp37m-manylinux1_x86_64.whl (4.4 MB)\r\n",
      "\u001b[K     |████████████████████████████████| 4.4 MB 4.4 MB/s \r\n",
      "\u001b[?25hRequirement already satisfied: requests>=2.19.0 in /opt/conda/lib/python3.7/site-packages (from dgl) (2.25.1)\r\n",
      "Requirement already satisfied: scipy>=1.1.0 in /opt/conda/lib/python3.7/site-packages (from dgl) (1.5.4)\r\n",
      "Requirement already satisfied: numpy>=1.14.0 in /opt/conda/lib/python3.7/site-packages (from dgl) (1.19.5)\r\n",
      "Requirement already satisfied: networkx>=2.1 in /opt/conda/lib/python3.7/site-packages (from dgl) (2.5)\r\n",
      "Requirement already satisfied: decorator>=4.3.0 in /opt/conda/lib/python3.7/site-packages (from networkx>=2.1->dgl) (4.4.2)\r\n",
      "Requirement already satisfied: certifi>=2017.4.17 in /opt/conda/lib/python3.7/site-packages (from requests>=2.19.0->dgl) (2020.12.5)\r\n",
      "Requirement already satisfied: urllib3<1.27,>=1.21.1 in /opt/conda/lib/python3.7/site-packages (from requests>=2.19.0->dgl) (1.26.4)\r\n",
      "Requirement already satisfied: chardet<5,>=3.0.2 in /opt/conda/lib/python3.7/site-packages (from requests>=2.19.0->dgl) (4.0.0)\r\n",
      "Requirement already satisfied: idna<3,>=2.5 in /opt/conda/lib/python3.7/site-packages (from requests>=2.19.0->dgl) (2.10)\r\n",
      "Installing collected packages: dgl\r\n",
      "Successfully installed dgl-0.6.1\r\n"
     ]
    }
   ],
   "source": [
    "#install library\n",
    "%matplotlib inline\n",
    "!pip install dgl"
   ]
  },
  {
   "cell_type": "code",
   "execution_count": 4,
   "id": "twenty-dollar",
   "metadata": {
    "execution": {
     "iopub.execute_input": "2021-05-08T04:27:41.152508Z",
     "iopub.status.busy": "2021-05-08T04:27:41.151807Z",
     "iopub.status.idle": "2021-05-08T04:27:44.724282Z",
     "shell.execute_reply": "2021-05-08T04:27:44.724657Z"
    },
    "papermill": {
     "duration": 3.604765,
     "end_time": "2021-05-08T04:27:44.725080",
     "exception": false,
     "start_time": "2021-05-08T04:27:41.120315",
     "status": "completed"
    },
    "tags": []
   },
   "outputs": [
    {
     "name": "stdout",
     "output_type": "stream",
     "text": [
      "Setting the default backend to \"pytorch\". You can change it in the ~/.dgl/config.json file or export the DGLBACKEND environment variable.  Valid options are: pytorch, mxnet, tensorflow (all lowercase)\n"
     ]
    },
    {
     "name": "stderr",
     "output_type": "stream",
     "text": [
      "DGL backend not selected or invalid.  Assuming PyTorch for now.\n",
      "Using backend: pytorch\n"
     ]
    }
   ],
   "source": [
    "import dgl\n",
    "from dgl.data import DGLDataset\n",
    "import torch\n",
    "import os\n",
    "import pandas as pd\n",
    "import torch.nn as nn\n",
    "import dgl.nn as dglnn\n",
    "import torch.nn.functional as F\n",
    "import hashlib\n",
    "import networkx as nx\n",
    "from sklearn import preprocessing\n",
    "from sklearn.preprocessing import LabelBinarizer\n",
    "import numpy as np\n",
    "from sklearn.model_selection import train_test_split\n",
    "import time\n",
    "from sklearn import metrics\n",
    "import datetime"
   ]
  },
  {
   "cell_type": "code",
   "execution_count": 5,
   "id": "ecological-defense",
   "metadata": {
    "execution": {
     "iopub.execute_input": "2021-05-08T04:27:44.779451Z",
     "iopub.status.busy": "2021-05-08T04:27:44.778860Z",
     "iopub.status.idle": "2021-05-08T04:27:49.929796Z",
     "shell.execute_reply": "2021-05-08T04:27:49.930363Z"
    },
    "papermill": {
     "duration": 5.179681,
     "end_time": "2021-05-08T04:27:49.930502",
     "exception": false,
     "start_time": "2021-05-08T04:27:44.750821",
     "status": "completed"
    },
    "tags": []
   },
   "outputs": [],
   "source": [
    "#using data ที่ผ่านการ EDA จาก code อันแรก\n",
    "\n",
    "data = pd.read_csv(\"../input/fork-of-credit-card-fraud-detection-models-e29c93/credit-card_feat.csv\")"
   ]
  },
  {
   "cell_type": "code",
   "execution_count": 6,
   "id": "focused-norman",
   "metadata": {
    "execution": {
     "iopub.execute_input": "2021-05-08T04:27:49.985785Z",
     "iopub.status.busy": "2021-05-08T04:27:49.985260Z",
     "iopub.status.idle": "2021-05-08T04:27:50.029628Z",
     "shell.execute_reply": "2021-05-08T04:27:50.030028Z"
    },
    "papermill": {
     "duration": 0.073272,
     "end_time": "2021-05-08T04:27:50.030178",
     "exception": false,
     "start_time": "2021-05-08T04:27:49.956906",
     "status": "completed"
    },
    "tags": []
   },
   "outputs": [
    {
     "data": {
      "text/html": [
       "<div>\n",
       "<style scoped>\n",
       "    .dataframe tbody tr th:only-of-type {\n",
       "        vertical-align: middle;\n",
       "    }\n",
       "\n",
       "    .dataframe tbody tr th {\n",
       "        vertical-align: top;\n",
       "    }\n",
       "\n",
       "    .dataframe thead th {\n",
       "        text-align: right;\n",
       "    }\n",
       "</style>\n",
       "<table border=\"1\" class=\"dataframe\">\n",
       "  <thead>\n",
       "    <tr style=\"text-align: right;\">\n",
       "      <th></th>\n",
       "      <th>amt</th>\n",
       "      <th>city_pop</th>\n",
       "      <th>trans_hour</th>\n",
       "      <th>age</th>\n",
       "      <th>category_food_dining</th>\n",
       "      <th>category_gas_transport</th>\n",
       "      <th>category_grocery_net</th>\n",
       "      <th>category_grocery_pos</th>\n",
       "      <th>category_health_fitness</th>\n",
       "      <th>category_home</th>\n",
       "      <th>...</th>\n",
       "      <th>dist</th>\n",
       "      <th>hist_trans_60d</th>\n",
       "      <th>hist_trans_24h</th>\n",
       "      <th>hist_fraud_trans_24h</th>\n",
       "      <th>hist_trans_avg_amt_60d</th>\n",
       "      <th>hist_fraud_trans_60d</th>\n",
       "      <th>is_fraud</th>\n",
       "      <th>first</th>\n",
       "      <th>last</th>\n",
       "      <th>merchant</th>\n",
       "    </tr>\n",
       "  </thead>\n",
       "  <tbody>\n",
       "    <tr>\n",
       "      <th>0</th>\n",
       "      <td>4.97</td>\n",
       "      <td>3495</td>\n",
       "      <td>0</td>\n",
       "      <td>31.0</td>\n",
       "      <td>0</td>\n",
       "      <td>0</td>\n",
       "      <td>0</td>\n",
       "      <td>0</td>\n",
       "      <td>0</td>\n",
       "      <td>0</td>\n",
       "      <td>...</td>\n",
       "      <td>78.597568</td>\n",
       "      <td>1.0</td>\n",
       "      <td>5.0</td>\n",
       "      <td>0.0</td>\n",
       "      <td>4.970000</td>\n",
       "      <td>0.0</td>\n",
       "      <td>0</td>\n",
       "      <td>Jennifer</td>\n",
       "      <td>Banks</td>\n",
       "      <td>fraud_Rippin, Kub and Mann</td>\n",
       "    </tr>\n",
       "    <tr>\n",
       "      <th>1</th>\n",
       "      <td>107.23</td>\n",
       "      <td>149</td>\n",
       "      <td>0</td>\n",
       "      <td>41.0</td>\n",
       "      <td>0</td>\n",
       "      <td>0</td>\n",
       "      <td>0</td>\n",
       "      <td>1</td>\n",
       "      <td>0</td>\n",
       "      <td>0</td>\n",
       "      <td>...</td>\n",
       "      <td>30.212176</td>\n",
       "      <td>1.0</td>\n",
       "      <td>2.0</td>\n",
       "      <td>0.0</td>\n",
       "      <td>47.737903</td>\n",
       "      <td>0.0</td>\n",
       "      <td>0</td>\n",
       "      <td>Stephanie</td>\n",
       "      <td>Gill</td>\n",
       "      <td>fraud_Heller, Gutmann and Zieme</td>\n",
       "    </tr>\n",
       "    <tr>\n",
       "      <th>2</th>\n",
       "      <td>220.11</td>\n",
       "      <td>4154</td>\n",
       "      <td>0</td>\n",
       "      <td>57.0</td>\n",
       "      <td>0</td>\n",
       "      <td>0</td>\n",
       "      <td>0</td>\n",
       "      <td>0</td>\n",
       "      <td>0</td>\n",
       "      <td>0</td>\n",
       "      <td>...</td>\n",
       "      <td>108.206083</td>\n",
       "      <td>8.0</td>\n",
       "      <td>5.0</td>\n",
       "      <td>0.0</td>\n",
       "      <td>377.925000</td>\n",
       "      <td>0.0</td>\n",
       "      <td>0</td>\n",
       "      <td>Edward</td>\n",
       "      <td>Sanchez</td>\n",
       "      <td>fraud_Lind-Buckridge</td>\n",
       "    </tr>\n",
       "    <tr>\n",
       "      <th>3</th>\n",
       "      <td>45.00</td>\n",
       "      <td>1939</td>\n",
       "      <td>0</td>\n",
       "      <td>52.0</td>\n",
       "      <td>0</td>\n",
       "      <td>1</td>\n",
       "      <td>0</td>\n",
       "      <td>0</td>\n",
       "      <td>0</td>\n",
       "      <td>0</td>\n",
       "      <td>...</td>\n",
       "      <td>95.673231</td>\n",
       "      <td>1.0</td>\n",
       "      <td>6.0</td>\n",
       "      <td>0.0</td>\n",
       "      <td>45.000000</td>\n",
       "      <td>0.0</td>\n",
       "      <td>0</td>\n",
       "      <td>Jeremy</td>\n",
       "      <td>White</td>\n",
       "      <td>fraud_Kutch, Hermiston and Farrell</td>\n",
       "    </tr>\n",
       "    <tr>\n",
       "      <th>4</th>\n",
       "      <td>41.96</td>\n",
       "      <td>99</td>\n",
       "      <td>0</td>\n",
       "      <td>33.0</td>\n",
       "      <td>0</td>\n",
       "      <td>0</td>\n",
       "      <td>0</td>\n",
       "      <td>0</td>\n",
       "      <td>0</td>\n",
       "      <td>0</td>\n",
       "      <td>...</td>\n",
       "      <td>77.556744</td>\n",
       "      <td>1.0</td>\n",
       "      <td>4.0</td>\n",
       "      <td>0.0</td>\n",
       "      <td>41.960000</td>\n",
       "      <td>0.0</td>\n",
       "      <td>0</td>\n",
       "      <td>Tyler</td>\n",
       "      <td>Garcia</td>\n",
       "      <td>fraud_Keeling-Crist</td>\n",
       "    </tr>\n",
       "  </tbody>\n",
       "</table>\n",
       "<p>5 rows × 34 columns</p>\n",
       "</div>"
      ],
      "text/plain": [
       "      amt  city_pop  trans_hour   age  category_food_dining  \\\n",
       "0    4.97      3495           0  31.0                     0   \n",
       "1  107.23       149           0  41.0                     0   \n",
       "2  220.11      4154           0  57.0                     0   \n",
       "3   45.00      1939           0  52.0                     0   \n",
       "4   41.96        99           0  33.0                     0   \n",
       "\n",
       "   category_gas_transport  category_grocery_net  category_grocery_pos  \\\n",
       "0                       0                     0                     0   \n",
       "1                       0                     0                     1   \n",
       "2                       0                     0                     0   \n",
       "3                       1                     0                     0   \n",
       "4                       0                     0                     0   \n",
       "\n",
       "   category_health_fitness  category_home  ...        dist  hist_trans_60d  \\\n",
       "0                        0              0  ...   78.597568             1.0   \n",
       "1                        0              0  ...   30.212176             1.0   \n",
       "2                        0              0  ...  108.206083             8.0   \n",
       "3                        0              0  ...   95.673231             1.0   \n",
       "4                        0              0  ...   77.556744             1.0   \n",
       "\n",
       "   hist_trans_24h  hist_fraud_trans_24h  hist_trans_avg_amt_60d  \\\n",
       "0             5.0                   0.0                4.970000   \n",
       "1             2.0                   0.0               47.737903   \n",
       "2             5.0                   0.0              377.925000   \n",
       "3             6.0                   0.0               45.000000   \n",
       "4             4.0                   0.0               41.960000   \n",
       "\n",
       "   hist_fraud_trans_60d  is_fraud      first     last  \\\n",
       "0                   0.0         0   Jennifer    Banks   \n",
       "1                   0.0         0  Stephanie     Gill   \n",
       "2                   0.0         0     Edward  Sanchez   \n",
       "3                   0.0         0     Jeremy    White   \n",
       "4                   0.0         0      Tyler   Garcia   \n",
       "\n",
       "                             merchant  \n",
       "0          fraud_Rippin, Kub and Mann  \n",
       "1     fraud_Heller, Gutmann and Zieme  \n",
       "2                fraud_Lind-Buckridge  \n",
       "3  fraud_Kutch, Hermiston and Farrell  \n",
       "4                 fraud_Keeling-Crist  \n",
       "\n",
       "[5 rows x 34 columns]"
      ]
     },
     "execution_count": 6,
     "metadata": {},
     "output_type": "execute_result"
    }
   ],
   "source": [
    "data.head()"
   ]
  },
  {
   "cell_type": "code",
   "execution_count": 7,
   "id": "mechanical-adelaide",
   "metadata": {
    "execution": {
     "iopub.execute_input": "2021-05-08T04:27:50.090401Z",
     "iopub.status.busy": "2021-05-08T04:27:50.089885Z",
     "iopub.status.idle": "2021-05-08T04:27:50.228435Z",
     "shell.execute_reply": "2021-05-08T04:27:50.227873Z"
    },
    "papermill": {
     "duration": 0.172206,
     "end_time": "2021-05-08T04:27:50.228551",
     "exception": false,
     "start_time": "2021-05-08T04:27:50.056345",
     "status": "completed"
    },
    "tags": []
   },
   "outputs": [],
   "source": [
    "#create new column 'full_name'\n",
    "data['full_name'] = data['first'] + data['last']"
   ]
  },
  {
   "cell_type": "code",
   "execution_count": 8,
   "id": "social-atlas",
   "metadata": {
    "execution": {
     "iopub.execute_input": "2021-05-08T04:27:50.324263Z",
     "iopub.status.busy": "2021-05-08T04:27:50.323245Z",
     "iopub.status.idle": "2021-05-08T04:27:50.872360Z",
     "shell.execute_reply": "2021-05-08T04:27:50.871574Z"
    },
    "papermill": {
     "duration": 0.61518,
     "end_time": "2021-05-08T04:27:50.872489",
     "exception": false,
     "start_time": "2021-05-08T04:27:50.257309",
     "status": "completed"
    },
    "tags": []
   },
   "outputs": [],
   "source": [
    "#create client dataframe\n",
    "client = data.drop(columns=['first','last','merchant','city_pop'])\n",
    "\n",
    "#sum amount of money of all transaction group by client name\n",
    "client['client_amt'] = client.groupby('full_name')['amt'].transform('sum')\n",
    "client = client.drop(columns=['amt'])\n",
    "\n",
    "#remove duplicate client\n",
    "client.drop_duplicates(subset=['full_name'],keep = 'last', inplace = True)\n",
    "client.reset_index(inplace=True,drop=True)\n",
    "\n",
    "#node_id\n",
    "client[\"id_client\"] = client.index"
   ]
  },
  {
   "cell_type": "code",
   "execution_count": 9,
   "id": "legal-albert",
   "metadata": {
    "execution": {
     "iopub.execute_input": "2021-05-08T04:27:50.994676Z",
     "iopub.status.busy": "2021-05-08T04:27:50.994027Z",
     "iopub.status.idle": "2021-05-08T04:27:51.397869Z",
     "shell.execute_reply": "2021-05-08T04:27:51.397244Z"
    },
    "papermill": {
     "duration": 0.498722,
     "end_time": "2021-05-08T04:27:51.397986",
     "exception": false,
     "start_time": "2021-05-08T04:27:50.899264",
     "status": "completed"
    },
    "tags": []
   },
   "outputs": [],
   "source": [
    "#create merchant dataframe\n",
    "merchant = data.drop(columns=['first','last','full_name','city_pop'])\n",
    "\n",
    "#sum amount of money of all transaction group by merchant\n",
    "merchant['mer_amt'] = merchant.groupby('merchant')['amt'].transform('sum')\n",
    "merchant = merchant.drop(columns=['amt'])\n",
    "\n",
    "#remove duplicate merchant\n",
    "merchant.drop_duplicates(subset=['merchant'],keep = 'last', inplace = True)\n",
    "merchant.reset_index(inplace=True,drop=True)\n",
    "\n",
    "#node_id\n",
    "merchant[\"id_merchant\"] = merchant.index"
   ]
  },
  {
   "cell_type": "code",
   "execution_count": 10,
   "id": "integral-antique",
   "metadata": {
    "execution": {
     "iopub.execute_input": "2021-05-08T04:27:51.457235Z",
     "iopub.status.busy": "2021-05-08T04:27:51.456534Z",
     "iopub.status.idle": "2021-05-08T04:27:56.188789Z",
     "shell.execute_reply": "2021-05-08T04:27:56.188278Z"
    },
    "papermill": {
     "duration": 4.764034,
     "end_time": "2021-05-08T04:27:56.188906",
     "exception": false,
     "start_time": "2021-05-08T04:27:51.424872",
     "status": "completed"
    },
    "tags": []
   },
   "outputs": [],
   "source": [
    "#create transaction dataframe\n",
    "\n",
    "tx = data[['full_name', 'merchant','is_fraud']].copy()\n",
    "#get id_merchant (node id)\n",
    "tx = merchant.merge(tx, how = 'left', on = ['merchant', 'merchant'])\n",
    "#get id_client (node id)\n",
    "tx = client.merge(tx, how = 'left', on = ['full_name', 'full_name'])"
   ]
  },
  {
   "cell_type": "code",
   "execution_count": 11,
   "id": "instant-antigua",
   "metadata": {
    "execution": {
     "iopub.execute_input": "2021-05-08T04:27:56.247949Z",
     "iopub.status.busy": "2021-05-08T04:27:56.246868Z",
     "iopub.status.idle": "2021-05-08T04:27:56.504382Z",
     "shell.execute_reply": "2021-05-08T04:27:56.503848Z"
    },
    "papermill": {
     "duration": 0.288614,
     "end_time": "2021-05-08T04:27:56.504499",
     "exception": false,
     "start_time": "2021-05-08T04:27:56.215885",
     "status": "completed"
    },
    "tags": []
   },
   "outputs": [],
   "source": [
    "tx_x = tx[['id_client','id_merchant']]\n",
    "tx_y = tx[['is_fraud']]"
   ]
  },
  {
   "cell_type": "code",
   "execution_count": 12,
   "id": "coastal-traveler",
   "metadata": {
    "execution": {
     "iopub.execute_input": "2021-05-08T04:27:56.563358Z",
     "iopub.status.busy": "2021-05-08T04:27:56.562719Z",
     "iopub.status.idle": "2021-05-08T04:27:57.596593Z",
     "shell.execute_reply": "2021-05-08T04:27:57.595896Z"
    },
    "papermill": {
     "duration": 1.065939,
     "end_time": "2021-05-08T04:27:57.596753",
     "exception": false,
     "start_time": "2021-05-08T04:27:56.530814",
     "status": "completed"
    },
    "tags": []
   },
   "outputs": [
    {
     "name": "stderr",
     "output_type": "stream",
     "text": [
      "/opt/conda/lib/python3.7/site-packages/ipykernel_launcher.py:12: SettingWithCopyWarning: \n",
      "A value is trying to be set on a copy of a slice from a DataFrame.\n",
      "Try using .loc[row_indexer,col_indexer] = value instead\n",
      "\n",
      "See the caveats in the documentation: https://pandas.pydata.org/pandas-docs/stable/user_guide/indexing.html#returning-a-view-versus-a-copy\n",
      "  if sys.path[0] == '':\n",
      "/opt/conda/lib/python3.7/site-packages/ipykernel_launcher.py:13: SettingWithCopyWarning: \n",
      "A value is trying to be set on a copy of a slice from a DataFrame.\n",
      "Try using .loc[row_indexer,col_indexer] = value instead\n",
      "\n",
      "See the caveats in the documentation: https://pandas.pydata.org/pandas-docs/stable/user_guide/indexing.html#returning-a-view-versus-a-copy\n",
      "  del sys.path[0]\n"
     ]
    }
   ],
   "source": [
    "from imblearn.over_sampling import SMOTE\n",
    "\n",
    "#train-test split\n",
    "X_train, X_test, y_train, y_test = train_test_split(tx_x, tx_y, test_size=0.2, random_state=0)\n",
    "\n",
    "#upsampling train transaction\n",
    "sm = SMOTE(random_state=23, sampling_strategy=1)\n",
    "X_train_sm, y_train_sm = sm.fit_resample(X_train, y_train)\n",
    "\n",
    "X_train_sm['train_mask'] = 1\n",
    "X_train_sm['test_mask'] = 0\n",
    "X_test['train_mask'] = 0\n",
    "X_test['test_mask'] = 1\n",
    "\n",
    "X = X_train_sm.append(X_test)\n",
    "y = y_train_sm.append(y_test)"
   ]
  },
  {
   "cell_type": "code",
   "execution_count": 13,
   "id": "dramatic-young",
   "metadata": {
    "execution": {
     "iopub.execute_input": "2021-05-08T04:27:57.656987Z",
     "iopub.status.busy": "2021-05-08T04:27:57.656499Z",
     "iopub.status.idle": "2021-05-08T04:27:57.692043Z",
     "shell.execute_reply": "2021-05-08T04:27:57.691621Z"
    },
    "papermill": {
     "duration": 0.067552,
     "end_time": "2021-05-08T04:27:57.692167",
     "exception": false,
     "start_time": "2021-05-08T04:27:57.624615",
     "status": "completed"
    },
    "tags": []
   },
   "outputs": [],
   "source": [
    "tx =pd.concat([X, y], axis=1)"
   ]
  },
  {
   "cell_type": "code",
   "execution_count": 14,
   "id": "configured-lambda",
   "metadata": {
    "execution": {
     "iopub.execute_input": "2021-05-08T04:27:57.754582Z",
     "iopub.status.busy": "2021-05-08T04:27:57.753929Z",
     "iopub.status.idle": "2021-05-08T04:27:57.864578Z",
     "shell.execute_reply": "2021-05-08T04:27:57.864116Z"
    },
    "papermill": {
     "duration": 0.145556,
     "end_time": "2021-05-08T04:27:57.864690",
     "exception": false,
     "start_time": "2021-05-08T04:27:57.719134",
     "status": "completed"
    },
    "tags": []
   },
   "outputs": [],
   "source": [
    "#seperate data to two dataframe. one is fraud transaction and the other is normal one.\n",
    "#และจะใช้เป็น edge\n",
    "\n",
    "fraud = tx[tx.is_fraud != 0]\n",
    "normal = tx[tx.is_fraud != 1]\n",
    "\n",
    "fraud.reset_index(inplace=True,drop=True)\n",
    "normal.reset_index(inplace=True,drop=True)"
   ]
  },
  {
   "cell_type": "code",
   "execution_count": 15,
   "id": "funded-blues",
   "metadata": {
    "execution": {
     "iopub.execute_input": "2021-05-08T04:27:57.926829Z",
     "iopub.status.busy": "2021-05-08T04:27:57.926149Z",
     "iopub.status.idle": "2021-05-08T04:27:57.930956Z",
     "shell.execute_reply": "2021-05-08T04:27:57.930354Z"
    },
    "papermill": {
     "duration": 0.03893,
     "end_time": "2021-05-08T04:27:57.931101",
     "exception": false,
     "start_time": "2021-05-08T04:27:57.892171",
     "status": "completed"
    },
    "tags": []
   },
   "outputs": [],
   "source": [
    "#feauter of client and merchant. have to be same size\n",
    "\n",
    "f_c = client.drop(columns=['full_name','id_client','is_fraud'])\n",
    "f_m = merchant.drop(columns=['merchant','id_merchant','is_fraud'])\n",
    "f_c = f_c.to_numpy()\n",
    "f_m = f_m.to_numpy()"
   ]
  },
  {
   "cell_type": "code",
   "execution_count": 16,
   "id": "external-reputation",
   "metadata": {
    "execution": {
     "iopub.execute_input": "2021-05-08T04:27:58.020893Z",
     "iopub.status.busy": "2021-05-08T04:27:58.020192Z",
     "iopub.status.idle": "2021-05-08T04:27:58.026710Z",
     "shell.execute_reply": "2021-05-08T04:27:58.027240Z"
    },
    "papermill": {
     "duration": 0.054333,
     "end_time": "2021-05-08T04:27:58.027437",
     "exception": false,
     "start_time": "2021-05-08T04:27:57.973104",
     "status": "completed"
    },
    "tags": []
   },
   "outputs": [],
   "source": [
    "#scale\n",
    "from sklearn.preprocessing import MinMaxScaler\n",
    "\n",
    "# Define the scaler and apply to the data\n",
    "scaler = MinMaxScaler()\n",
    "f_c = scaler.fit_transform(f_c)\n",
    "f_m = scaler.fit_transform(f_m)"
   ]
  },
  {
   "cell_type": "code",
   "execution_count": 17,
   "id": "unlimited-headset",
   "metadata": {
    "execution": {
     "iopub.execute_input": "2021-05-08T04:27:58.117140Z",
     "iopub.status.busy": "2021-05-08T04:27:58.116479Z",
     "iopub.status.idle": "2021-05-08T04:27:58.434490Z",
     "shell.execute_reply": "2021-05-08T04:27:58.435001Z"
    },
    "papermill": {
     "duration": 0.365501,
     "end_time": "2021-05-08T04:27:58.435189",
     "exception": false,
     "start_time": "2021-05-08T04:27:58.069688",
     "status": "completed"
    },
    "tags": []
   },
   "outputs": [
    {
     "data": {
      "text/plain": [
       "Text(0, 0.5, 'Cumulative explained variance')"
      ]
     },
     "execution_count": 17,
     "metadata": {},
     "output_type": "execute_result"
    },
    {
     "data": {
      "image/png": "[encoded data removed]",
      "text/plain": [
       "<Figure size 432x288 with 1 Axes>"
      ]
     },
     "metadata": {
      "needs_background": "light"
     },
     "output_type": "display_data"
    }
   ],
   "source": [
    "from sklearn.pipeline import make_pipeline\n",
    "from sklearn.naive_bayes import GaussianNB\n",
    "from sklearn.decomposition import PCA\n",
    "import matplotlib.pyplot as plt\n",
    "\n",
    "pca = PCA().fit(f_c)\n",
    "plt.plot(np.cumsum(pca.explained_variance_ratio_))\n",
    "plt.xlim(0,20,1)\n",
    "plt.xlabel('Number of components')\n",
    "plt.ylabel('Cumulative explained variance')"
   ]
  },
  {
   "cell_type": "code",
   "execution_count": 18,
   "id": "upset-force",
   "metadata": {
    "execution": {
     "iopub.execute_input": "2021-05-08T04:27:58.528738Z",
     "iopub.status.busy": "2021-05-08T04:27:58.527762Z",
     "iopub.status.idle": "2021-05-08T04:27:58.561064Z",
     "shell.execute_reply": "2021-05-08T04:27:58.560431Z"
    },
    "papermill": {
     "duration": 0.082326,
     "end_time": "2021-05-08T04:27:58.561235",
     "exception": false,
     "start_time": "2021-05-08T04:27:58.478909",
     "status": "completed"
    },
    "tags": []
   },
   "outputs": [],
   "source": [
    "#จากกราฟด้านบน ถ้าใช้ variable ประมาณ 18 ตัว จะอธบาย varaince ได้ 90%\n",
    "#จึงทำ pca กับ feature ของ client และ merchant ให้ dimension เหลือ 18\n",
    "\n",
    "import pickle as pk\n",
    "pca = PCA(n_components=18)\n",
    "f_c= pca.fit_transform(f_c)\n",
    "pk.dump(pca, open(\"pca.pkl\",\"wb\"))\n",
    "pca_reload = pk.load(open(\"pca.pkl\",'rb'))\n",
    "f_m = pca_reload.transform(f_m)"
   ]
  },
  {
   "cell_type": "markdown",
   "id": "employed-fetish",
   "metadata": {
    "papermill": {
     "duration": 0.053271,
     "end_time": "2021-05-08T04:27:58.667633",
     "exception": false,
     "start_time": "2021-05-08T04:27:58.614362",
     "status": "completed"
    },
    "tags": []
   },
   "source": [
    "# gen graph"
   ]
  },
  {
   "cell_type": "code",
   "execution_count": 19,
   "id": "artificial-essay",
   "metadata": {
    "execution": {
     "iopub.execute_input": "2021-05-08T04:27:58.767975Z",
     "iopub.status.busy": "2021-05-08T04:27:58.767104Z",
     "iopub.status.idle": "2021-05-08T04:28:35.278556Z",
     "shell.execute_reply": "2021-05-08T04:28:35.277921Z"
    },
    "papermill": {
     "duration": 36.563963,
     "end_time": "2021-05-08T04:28:35.278711",
     "exception": false,
     "start_time": "2021-05-08T04:27:58.714748",
     "status": "completed"
    },
    "tags": []
   },
   "outputs": [],
   "source": [
    "#create hetero graph which has two type of node (client and merchant) and has two type of edge (fraud and normal)\n",
    "#เนื่องจาก dgl ไม่สามารถทำ undirected graph ได้ จึงสร้างเป็น directional ไปกลับ\n",
    "#insert node feature and edge data into graph\n",
    "\n",
    "g = dgl.heterograph({('client', '1_is_fraud_buy', 'merchant'):(fraud['id_client'],fraud['id_merchant']),\n",
    "                     ('client', '0_not_fraud_buy', 'merchant'):(normal['id_client'],normal['id_merchant']),\n",
    "                     ('merchant', '3_is_fraud_sell', 'client'):(fraud['id_merchant'],fraud['id_client']),\n",
    "                     ('merchant', '2_not_fraud_sell', 'client'):(normal['id_merchant'],normal['id_client'])})\n",
    "g.nodes['client'].data['feature'] = torch.from_numpy(f_c).float()\n",
    "g.nodes['merchant'].data['feature'] = torch.from_numpy(f_m).float()\n",
    "g.nodes['client'].data['h'] = torch.from_numpy(f_c).float()\n",
    "g.nodes['merchant'].data['h'] = torch.from_numpy(f_m).float()\n",
    "\n",
    "g.edges['1_is_fraud_buy'].data['train_mask'] = torch.Tensor(fraud['train_mask']).bool()\n",
    "g.edges['0_not_fraud_buy'].data['train_mask'] = torch.Tensor(normal['train_mask']).bool()\n",
    "g.edges['1_is_fraud_buy'].data['test_mask'] = torch.Tensor(fraud['test_mask']).bool()\n",
    "g.edges['0_not_fraud_buy'].data['test_mask'] = torch.Tensor(normal['test_mask']).bool()\n",
    "g.edges['3_is_fraud_sell'].data['test_mask'] = torch.Tensor(fraud['test_mask']).bool()\n",
    "g.edges['2_not_fraud_sell'].data['test_mask'] = torch.Tensor(normal['test_mask']).bool()\n",
    "g.edges['3_is_fraud_sell'].data['train_mask'] = torch.Tensor(fraud['train_mask']).bool()\n",
    "g.edges['2_not_fraud_sell'].data['train_mask'] = torch.Tensor(normal['train_mask']).bool()"
   ]
  },
  {
   "cell_type": "code",
   "execution_count": 20,
   "id": "collective-yemen",
   "metadata": {
    "execution": {
     "iopub.execute_input": "2021-05-08T04:28:35.369759Z",
     "iopub.status.busy": "2021-05-08T04:28:35.368199Z",
     "iopub.status.idle": "2021-05-08T04:28:35.375792Z",
     "shell.execute_reply": "2021-05-08T04:28:35.375235Z"
    },
    "papermill": {
     "duration": 0.05464,
     "end_time": "2021-05-08T04:28:35.375911",
     "exception": false,
     "start_time": "2021-05-08T04:28:35.321271",
     "status": "completed"
    },
    "tags": []
   },
   "outputs": [
    {
     "data": {
      "text/plain": [
       "Graph(num_nodes={'client': 973, 'merchant': 693},\n",
       "      num_edges={('client', '0_not_fraud_buy', 'merchant'): 1288828, ('client', '1_is_fraud_buy', 'merchant'): 1032587, ('merchant', '2_not_fraud_sell', 'client'): 1288828, ('merchant', '3_is_fraud_sell', 'client'): 1032587},\n",
       "      metagraph=[('client', 'merchant', '0_not_fraud_buy'), ('client', 'merchant', '1_is_fraud_buy'), ('merchant', 'client', '2_not_fraud_sell'), ('merchant', 'client', '3_is_fraud_sell')])"
      ]
     },
     "execution_count": 20,
     "metadata": {},
     "output_type": "execute_result"
    }
   ],
   "source": [
    "g"
   ]
  },
  {
   "cell_type": "code",
   "execution_count": 21,
   "id": "annual-enforcement",
   "metadata": {
    "execution": {
     "iopub.execute_input": "2021-05-08T04:28:35.446109Z",
     "iopub.status.busy": "2021-05-08T04:28:35.445384Z",
     "iopub.status.idle": "2021-05-08T04:28:35.448616Z",
     "shell.execute_reply": "2021-05-08T04:28:35.447950Z"
    },
    "papermill": {
     "duration": 0.041867,
     "end_time": "2021-05-08T04:28:35.448762",
     "exception": false,
     "start_time": "2021-05-08T04:28:35.406895",
     "status": "completed"
    },
    "tags": []
   },
   "outputs": [],
   "source": [
    "#calculation edge score\n",
    "# it takes in another graph with only one edge type \n",
    "# that “merges” all the edge types to be predicted, and emits the score of each type for every edge.\n",
    "\n",
    "class HeteroMLPPredictor(nn.Module):\n",
    "    def __init__(self, in_dims, n_classes):\n",
    "        super().__init__()\n",
    "        self.W = nn.Linear(in_dims * 2, n_classes)\n",
    "        self.clas = n_classes\n",
    "    def apply_edges(self, edges):\n",
    "        #concatanate feature of source and destination\n",
    "        \n",
    "        x = torch.cat([edges.src['h'], edges.dst['h']], 1)\n",
    "#         print('cat')\n",
    "#         print(len(x))\n",
    "#         print(x)\n",
    "        #classify using linear classification\n",
    "        y = self.W(x)\n",
    "#         print('linear')\n",
    "#         print(y)\n",
    "        return {'score': y}\n",
    "\n",
    "    def forward(self, graph, h):\n",
    "        # h contains the node representations for each edge type computed from\n",
    "        # the GNN for heterogeneous graphs defined in the node classification\n",
    "        # section (Section 5.1).\n",
    "#         print('mlp input')\n",
    "#         print(graph)\n",
    "#         print(h)\n",
    "#         print(self.clas)\n",
    "        with graph.local_scope():\n",
    "            graph.ndata['h'] = h   # assigns 'h' of all node types in one shot\n",
    "            graph.apply_edges(self.apply_edges)\n",
    "            return graph.edata['score']"
   ]
  },
  {
   "cell_type": "code",
   "execution_count": 22,
   "id": "metropolitan-danger",
   "metadata": {
    "execution": {
     "iopub.execute_input": "2021-05-08T04:28:35.544056Z",
     "iopub.status.busy": "2021-05-08T04:28:35.543324Z",
     "iopub.status.idle": "2021-05-08T04:28:35.545832Z",
     "shell.execute_reply": "2021-05-08T04:28:35.545390Z"
    },
    "papermill": {
     "duration": 0.053435,
     "end_time": "2021-05-08T04:28:35.545941",
     "exception": false,
     "start_time": "2021-05-08T04:28:35.492506",
     "status": "completed"
    },
    "tags": []
   },
   "outputs": [],
   "source": [
    "# Define a Heterograph Conv model\n",
    "# first performs a separate graph convolution on each edge type, \n",
    "# then sums the message aggregations on each edge type as the final result for all node types.\n",
    "class RGCN(nn.Module):\n",
    "    def __init__(self, in_feats, hid_feats, out_feats, rel_names):\n",
    "        super().__init__()\n",
    "\n",
    "        self.conv1 = dglnn.HeteroGraphConv({\n",
    "            rel: dglnn.GraphConv(in_feats, hid_feats)\n",
    "            for rel in rel_names}, aggregate='sum')\n",
    "        self.conv2 = dglnn.HeteroGraphConv({\n",
    "            rel: dglnn.GraphConv(hid_feats, out_feats)\n",
    "            for rel in rel_names}, aggregate='sum')\n",
    "        self.rel = rel_names\n",
    "    def forward(self, graph, inputs):\n",
    "#         print(self.rel)\n",
    "        # inputs are features of nodes\n",
    "        h = self.conv1(graph, inputs)\n",
    "        h = {k: F.relu(v) for k, v in h.items()}\n",
    "        h = self.conv2(graph, h)\n",
    "        return h"
   ]
  },
  {
   "cell_type": "code",
   "execution_count": 23,
   "id": "wanted-police",
   "metadata": {
    "execution": {
     "iopub.execute_input": "2021-05-08T04:28:35.612344Z",
     "iopub.status.busy": "2021-05-08T04:28:35.611850Z",
     "iopub.status.idle": "2021-05-08T04:28:35.614914Z",
     "shell.execute_reply": "2021-05-08T04:28:35.614412Z"
    },
    "papermill": {
     "duration": 0.039442,
     "end_time": "2021-05-08T04:28:35.615032",
     "exception": false,
     "start_time": "2021-05-08T04:28:35.575590",
     "status": "completed"
    },
    "tags": []
   },
   "outputs": [],
   "source": [
    "class Model(nn.Module):\n",
    "    def __init__(self, in_features, hidden_features, out_features, rel_names):\n",
    "        super().__init__()\n",
    "        self.sage = RGCN(in_features, hidden_features, out_features, rel_names)\n",
    "        self.pred = HeteroMLPPredictor(out_features, len(rel_names))\n",
    "    def forward(self, g, x, dec_graph):\n",
    "        h = self.sage(g, x)\n",
    "#         print('2')\n",
    "#         print(self.pred(dec_graph, h))\n",
    "        return self.pred(dec_graph, h)"
   ]
  },
  {
   "cell_type": "code",
   "execution_count": 24,
   "id": "golden-animation",
   "metadata": {
    "execution": {
     "iopub.execute_input": "2021-05-08T04:28:35.681098Z",
     "iopub.status.busy": "2021-05-08T04:28:35.680582Z",
     "iopub.status.idle": "2021-05-08T04:28:35.689159Z",
     "shell.execute_reply": "2021-05-08T04:28:35.688623Z"
    },
    "papermill": {
     "duration": 0.04269,
     "end_time": "2021-05-08T04:28:35.689293",
     "exception": false,
     "start_time": "2021-05-08T04:28:35.646603",
     "status": "completed"
    },
    "tags": []
   },
   "outputs": [],
   "source": [
    "#วัดค่าความแม่นยำของโมเดล\n",
    "\n",
    "def test(g, node_features, dec_graph):\n",
    "        model.eval()\n",
    "        out = model(g, node_features, dec_graph)\n",
    "        # classify ว่าอยู่ class ไหนโดยใช้ argmax function ซึ่งเป็น function ที่จะคืนค่าตำแหน่งที่ element ที่มีค่าสูงสุดอยู่\n",
    "        pred = out.argmax(dim=1)  # Use the class with highest probability.\n",
    "        pred[pred==2] = 0\n",
    "        pred[pred==3] = 1\n",
    "        \n",
    "        train_acc = (pred[train_mask] == edge_label[train_mask]).float().mean()\n",
    "        test_acc = (pred[test_mask] == edge_label[test_mask]).float().mean()\n",
    "\n",
    "        print('round: ',epoch,\" loss: \",loss.item())\n",
    "        print('Test Accuracy: %.2f%%' % (test_acc.item() * 100))\n",
    "        print(\"Precision: %.2f%%\" % (metrics.precision_score(edge_label[test_mask],pred[test_mask]) * 100))\n",
    "        print(\"Recall: %.2f%%\" % (metrics.recall_score(edge_label[test_mask], pred[test_mask]) * 100))\n",
    "        print(\"F1-Score: %.2f%%\" % (metrics.f1_score(edge_label[test_mask], pred[test_mask]) * 100))\n",
    "        print('----------------')"
   ]
  },
  {
   "cell_type": "code",
   "execution_count": 25,
   "id": "rubber-inflation",
   "metadata": {
    "execution": {
     "iopub.execute_input": "2021-05-08T04:28:35.804192Z",
     "iopub.status.busy": "2021-05-08T04:28:35.803598Z",
     "iopub.status.idle": "2021-05-08T04:28:35.811277Z",
     "shell.execute_reply": "2021-05-08T04:28:35.810791Z"
    },
    "papermill": {
     "duration": 0.089666,
     "end_time": "2021-05-08T04:28:35.811388",
     "exception": false,
     "start_time": "2021-05-08T04:28:35.721722",
     "status": "completed"
    },
    "tags": []
   },
   "outputs": [],
   "source": [
    "dec_graph = g['client', :, 'merchant']\n",
    "edge_label = dec_graph.edata[dgl.ETYPE]"
   ]
  },
  {
   "cell_type": "code",
   "execution_count": 26,
   "id": "efficient-season",
   "metadata": {
    "execution": {
     "iopub.execute_input": "2021-05-08T04:28:35.880501Z",
     "iopub.status.busy": "2021-05-08T04:28:35.879880Z",
     "iopub.status.idle": "2021-05-08T04:32:09.963876Z",
     "shell.execute_reply": "2021-05-08T04:32:09.963364Z"
    },
    "papermill": {
     "duration": 214.122488,
     "end_time": "2021-05-08T04:32:09.963989",
     "exception": false,
     "start_time": "2021-05-08T04:28:35.841501",
     "status": "completed"
    },
    "tags": []
   },
   "outputs": [
    {
     "name": "stdout",
     "output_type": "stream",
     "text": [
      "round:  0  loss:  1.3454025983810425\n",
      "Test Accuracy: 0.60%\n",
      "Precision: 0.60%\n",
      "Recall: 100.00%\n",
      "F1-Score: 1.19%\n",
      "----------------\n",
      "round:  10  loss:  1.1786551475524902\n",
      "Test Accuracy: 0.60%\n",
      "Precision: 0.60%\n",
      "Recall: 100.00%\n",
      "F1-Score: 1.19%\n",
      "----------------\n",
      "round:  20  loss:  0.9834760427474976\n",
      "Test Accuracy: 0.60%\n",
      "Precision: 0.60%\n",
      "Recall: 100.00%\n",
      "F1-Score: 1.19%\n",
      "----------------\n",
      "round:  30  loss:  0.8093209862709045\n",
      "Test Accuracy: 0.79%\n",
      "Precision: 0.60%\n",
      "Recall: 100.00%\n",
      "F1-Score: 1.19%\n",
      "----------------\n",
      "round:  40  loss:  0.6639426946640015\n",
      "Test Accuracy: 99.86%\n",
      "Precision: 80.61%\n",
      "Recall: 100.00%\n",
      "F1-Score: 89.27%\n",
      "----------------\n",
      "round:  50  loss:  0.5553897619247437\n",
      "Test Accuracy: 100.00%\n",
      "Precision: 100.00%\n",
      "Recall: 99.87%\n",
      "F1-Score: 99.94%\n",
      "----------------\n",
      "round:  60  loss:  0.45510798692703247\n",
      "Test Accuracy: 99.98%\n",
      "Precision: 100.00%\n",
      "Recall: 96.20%\n",
      "F1-Score: 98.06%\n",
      "----------------\n",
      "round:  70  loss:  0.35125455260276794\n",
      "Test Accuracy: 99.95%\n",
      "Precision: 100.00%\n",
      "Recall: 91.68%\n",
      "F1-Score: 95.66%\n",
      "----------------\n",
      "round:  80  loss:  0.26185178756713867\n",
      "Test Accuracy: 99.95%\n",
      "Precision: 100.00%\n",
      "Recall: 91.36%\n",
      "F1-Score: 95.49%\n",
      "----------------\n",
      "round:  90  loss:  0.19462738931179047\n",
      "Test Accuracy: 99.95%\n",
      "Precision: 100.00%\n",
      "Recall: 91.36%\n",
      "F1-Score: 95.49%\n",
      "----------------\n",
      "round:  99  loss:  0.15762442350387573\n",
      "Test Accuracy: 99.95%\n",
      "Precision: 100.00%\n",
      "Recall: 91.36%\n",
      "F1-Score: 95.49%\n",
      "----------------\n"
     ]
    }
   ],
   "source": [
    "model = Model(18,14,10, g.etypes)\n",
    "cli_feats = g.nodes['client'].data['feature']\n",
    "mer_feats = g.nodes['merchant'].data['feature']\n",
    "node_features = {'client': cli_feats, 'merchant': mer_feats}\n",
    "# edge_label = g.edges['is_fraud'].data['label'].long()\n",
    "# edge_label = edge_label.unsqueeze(1).float()\n",
    "# train_mask = g.edges['is_fraud'].data['train_mask']\n",
    "# test_mask = g.edges['is_fraud'].data['test_mask']\n",
    "train_mask = dec_graph.edata['train_mask']\n",
    "# val_mask = dec_graph.edata['val_mask']\n",
    "test_mask = dec_graph.edata['test_mask']\n",
    "\n",
    "\n",
    "opt = torch.optim.Adam(model.parameters())\n",
    "for epoch in range(100):\n",
    "\n",
    "    logits= model(g, node_features,dec_graph)\n",
    "    loss = F.cross_entropy(logits[train_mask], edge_label[train_mask])\n",
    "\n",
    "    logits = logits.argmax(dim=1)\n",
    "   \n",
    "    train_acc = (logits[train_mask] == edge_label[train_mask]).float().mean()\n",
    "    test_acc = (logits[test_mask] == edge_label[test_mask]).float().mean()\n",
    "    \n",
    "    opt.zero_grad()\n",
    "    loss.backward()\n",
    "    opt.step()\n",
    "\n",
    "    if epoch % 10 == 0 or epoch == 99 :\n",
    "        test(g, node_features, dec_graph)"
   ]
  }
 ],
 "metadata": {
  "kernelspec": {
   "display_name": "Python 3",
   "language": "python",
   "name": "python3"
  },
  "language_info": {
   "codemirror_mode": {
    "name": "ipython",
    "version": 3
   },
   "file_extension": ".py",
   "mimetype": "text/x-python",
   "name": "python",
   "nbconvert_exporter": "python",
   "pygments_lexer": "ipython3",
   "version": "3.7.10"
  },
  "papermill": {
   "default_parameters": {},
   "duration": 289.171596,
   "end_time": "2021-05-08T04:32:11.750384",
   "environment_variables": {},
   "exception": null,
   "input_path": "__notebook__.ipynb",
   "output_path": "__notebook__.ipynb",
   "parameters": {},
   "start_time": "2021-05-08T04:27:22.578788",
   "version": "2.3.3"
  }
 },
 "nbformat": 4,
 "nbformat_minor": 5
}
