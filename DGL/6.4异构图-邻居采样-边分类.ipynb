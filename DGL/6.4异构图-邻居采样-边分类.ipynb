{
 "cells": [
  {
   "cell_type": "code",
   "execution_count": null,
   "id": "899d1bc5",
   "metadata": {},
   "outputs": [],
   "source": [
    "sampler = dgl.dataloading.MultiLayerFullNeighborSampler(2)\n",
    "dataloader = dgl.dataloading.EdgeDataLoader(\n",
    "    g, train_eid_dict, sampler,\n",
    "    batch_size=1024,\n",
    "    shuffle=True,\n",
    "    drop_last=False,\n",
    "    num_workers=4)"
   ]
  },
  {
   "cell_type": "markdown",
   "id": "ecab7e79",
   "metadata": {},
   "source": [
    "如果用户希望删除异构图中的反向边，情况会有所不同。  \n",
    "在异构图上， 反向边通常具有与正向边本身不同的边类型，以便区分 向前 和 向后 关系。  \n",
    "例如，关注 和 被关注 是一对相反的关系， 购买 和 被买下 也是一对相反的关系。  \n",
    "如果一个类型中的每个边都有一个与之对应的ID相同、属于另一类型的反向边，则用户可以指定边类型及其反向边类型之间的映射。  \n",
    "删除小批次中的边及其反向边的方法如下。"
   ]
  },
  {
   "cell_type": "code",
   "execution_count": null,
   "id": "f9bb88bb",
   "metadata": {},
   "outputs": [],
   "source": [
    "dataloader = dgl.dataloading.EdgeDataLoader(\n",
    "    g, train_eid_dict, sampler,\n",
    "\n",
    "    # 下面的两个参数专门用于在邻居采样时删除小批次的一些边和它们的反向边\n",
    "    exclude='reverse_types',\n",
    "    reverse_etypes={'follow': 'followed by', 'followed by': 'follow',\n",
    "                    'purchase': 'purchased by', 'purchased by': 'purchase'}\n",
    "\n",
    "    batch_size=1024,\n",
    "    shuffle=True,\n",
    "    drop_last=False,\n",
    "    num_workers=4)"
   ]
  },
  {
   "cell_type": "markdown",
   "id": "8368dfac",
   "metadata": {},
   "source": [
    "在同构图和异构图上做评分预测时，代码实现的唯一不同在于调用 apply_edges() 时需要在特定类型的边上进行迭代。"
   ]
  },
  {
   "cell_type": "code",
   "execution_count": null,
   "id": "a35844cc",
   "metadata": {},
   "outputs": [],
   "source": [
    "class StochasticTwoLayerRGCN(nn.Module):\n",
    "    def __init__(self, in_feat, hidden_feat, out_feat, rel_names):\n",
    "        super().__init__()\n",
    "        self.conv1 = dglnn.HeteroGraphConv({\n",
    "                rel : dglnn.GraphConv(in_feat, hidden_feat, norm='right')\n",
    "                for rel in rel_names\n",
    "            })\n",
    "        self.conv2 = dglnn.HeteroGraphConv({\n",
    "                rel : dglnn.GraphConv(hidden_feat, out_feat, norm='right')\n",
    "                for rel in rel_names\n",
    "            })\n",
    "\n",
    "    def forward(self, blocks, x):\n",
    "        x = self.conv1(blocks[0], x)\n",
    "        x = self.conv2(blocks[1], x)\n",
    "        return x\n",
    "\n",
    "    \n",
    "class ScorePredictor(nn.Module):\n",
    "    def __init__(self, num_classes, in_features):\n",
    "        super().__init__()\n",
    "        self.W = nn.Linear(2 * in_features, num_classes)\n",
    "\n",
    "    def apply_edges(self, edges):\n",
    "        data = torch.cat([edges.src['x'], edges.dst['x']])\n",
    "        return {'score': self.W(data)}\n",
    "\n",
    "    def forward(self, edge_subgraph, x):\n",
    "        with edge_subgraph.local_scope():\n",
    "            edge_subgraph.ndata['x'] = x\n",
    "            for etype in edge_subgraph.canonical_etypes:\n",
    "                edge_subgraph.apply_edges(self.apply_edges, etype=etype)\n",
    "            return edge_subgraph.edata['score']\n",
    "\n",
    "        \n",
    "class Model(nn.Module):\n",
    "    def __init__(self, in_features, hidden_features, out_features, num_classes,\n",
    "                 etypes):\n",
    "        super().__init__()\n",
    "        self.rgcn = StochasticTwoLayerRGCN(\n",
    "            in_features, hidden_features, out_features, etypes)\n",
    "        self.pred = ScorePredictor(num_classes, out_features)\n",
    "\n",
    "    def forward(self, edge_subgraph, blocks, x):\n",
    "        x = self.rgcn(blocks, x)\n",
    "        return self.pred(edge_subgraph, x)"
   ]
  },
  {
   "cell_type": "code",
   "execution_count": null,
   "id": "086564ab",
   "metadata": {},
   "outputs": [],
   "source": [
    "model = Model(in_features, hidden_features, out_features, num_classes, etypes)\n",
    "model = model.cuda()\n",
    "opt = torch.optim.Adam(model.parameters())\n",
    "\n",
    "for input_nodes, edge_subgraph, blocks in dataloader:\n",
    "    blocks = [b.to(torch.device('cuda')) for b in blocks]\n",
    "    edge_subgraph = edge_subgraph.to(torch.device('cuda'))\n",
    "    input_features = blocks[0].srcdata['features']\n",
    "    edge_labels = edge_subgraph.edata['labels']\n",
    "    edge_predictions = model(edge_subgraph, blocks, input_features)\n",
    "    loss = compute_loss(edge_labels, edge_predictions)\n",
    "    opt.zero_grad()\n",
    "    loss.backward()\n",
    "    opt.step()"
   ]
  }
 ],
 "metadata": {
  "kernelspec": {
   "display_name": "Python 3",
   "language": "python",
   "name": "python3"
  },
  "language_info": {
   "codemirror_mode": {
    "name": "ipython",
    "version": 3
   },
   "file_extension": ".py",
   "mimetype": "text/x-python",
   "name": "python",
   "nbconvert_exporter": "python",
   "pygments_lexer": "ipython3",
   "version": "3.7.0"
  }
 },
 "nbformat": 4,
 "nbformat_minor": 5
}
