{
 "cells": [
  {
   "cell_type": "markdown",
   "id": "afe83da7",
   "metadata": {},
   "source": [
    "DGL提供的一些采样方法也支持异构图。  \n",
    "例如，用户仍然可以使用 MultiLayerFullNeighborSampler 类和 NodeDataLoader 类进行随机批次训练。   \n",
    "对于全邻居采样，唯一的区别是**用户需要为训练集指定节点类型和节点ID的字典**。"
   ]
  },
  {
   "cell_type": "code",
   "execution_count": null,
   "id": "0d125857",
   "metadata": {},
   "outputs": [],
   "source": [
    "sampler = dgl.dataloading.MultiLayerFullNeighborSampler(2)\n",
    "dataloader = dgl.dataloading.NodeDataLoader(\n",
    "    g, train_nid_dict, sampler,\n",
    "    batch_size=1024,\n",
    "    shuffle=True,\n",
    "    drop_last=False,\n",
    "    num_workers=4)"
   ]
  },
  {
   "cell_type": "code",
   "execution_count": null,
   "id": "74f747c0",
   "metadata": {},
   "outputs": [],
   "source": [
    "class StochasticTwoLayerRGCN(nn.Module):\n",
    "    def __init__(self, in_feat, hidden_feat, out_feat, rel_names):\n",
    "        super().__init__()\n",
    "        self.conv1 = dglnn.HeteroGraphConv({\n",
    "                rel : dglnn.GraphConv(in_feat, hidden_feat, norm='right')\n",
    "                for rel in rel_names\n",
    "            })\n",
    "        self.conv2 = dglnn.HeteroGraphConv({\n",
    "                rel : dglnn.GraphConv(hidden_feat, out_feat, norm='right')\n",
    "                for rel in rel_names\n",
    "            })\n",
    "\n",
    "    def forward(self, blocks, x):\n",
    "        x = self.conv1(blocks[0], x)\n",
    "        x = self.conv2(blocks[1], x)\n",
    "        return x"
   ]
  },
  {
   "cell_type": "markdown",
   "id": "ed5ea22e",
   "metadata": {},
   "source": [
    "模型的训练与同构图几乎相同。不同之处在于， compute_loss 的实现会包含两个字典：节点类型和预测结果。"
   ]
  },
  {
   "cell_type": "code",
   "execution_count": null,
   "id": "0ae1ab68",
   "metadata": {},
   "outputs": [],
   "source": [
    "model = StochasticTwoLayerRGCN(in_features, hidden_features, out_features, etypes)\n",
    "model = model.cuda()\n",
    "opt = torch.optim.Adam(model.parameters())\n",
    "\n",
    "for input_nodes, output_nodes, blocks in dataloader:\n",
    "    blocks = [b.to(torch.device('cuda')) for b in blocks]\n",
    "    input_features = blocks[0].srcdata     # returns a dict\n",
    "    output_labels = blocks[-1].dstdata     # returns a dict\n",
    "    output_predictions = model(blocks, input_features)\n",
    "    loss = compute_loss(output_labels, output_predictions)\n",
    "    opt.zero_grad()\n",
    "    loss.backward()\n",
    "    opt.step()"
   ]
  }
 ],
 "metadata": {
  "kernelspec": {
   "display_name": "Python 3",
   "language": "python",
   "name": "python3"
  },
  "language_info": {
   "codemirror_mode": {
    "name": "ipython",
    "version": 3
   },
   "file_extension": ".py",
   "mimetype": "text/x-python",
   "name": "python",
   "nbconvert_exporter": "python",
   "pygments_lexer": "ipython3",
   "version": "3.7.0"
  }
 },
 "nbformat": 4,
 "nbformat_minor": 5
}
