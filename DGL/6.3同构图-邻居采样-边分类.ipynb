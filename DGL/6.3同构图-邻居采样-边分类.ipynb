{
 "cells": [
  {
   "cell_type": "markdown",
   "id": "3e8ecd24",
   "metadata": {},
   "source": [
    "定义邻居采样器和数据加载器"
   ]
  },
  {
   "cell_type": "code",
   "execution_count": null,
   "id": "de2b7d8d",
   "metadata": {},
   "outputs": [],
   "source": [
    "dataloader = dgl.dataloading.EdgeDataLoader(\n",
    "    g, train_eid_dict, sampler,\n",
    "    batch_size=1024,\n",
    "    shuffle=True,\n",
    "    drop_last=False,\n",
    "    num_workers=4)"
   ]
  },
  {
   "cell_type": "markdown",
   "id": "24523e7a",
   "metadata": {},
   "source": [
    "小批次邻居采样训练时删边"
   ]
  },
  {
   "cell_type": "markdown",
   "id": "055c3e88",
   "metadata": {},
   "source": [
    "用户在训练边分类模型时，有时希望从计算依赖中删除出现在训练数据中的边，就好像这些边根本不存在一样。  \n",
    "否则，模型将 “知道” 两个节点之间存在边的联系，并有可能利用这点 “作弊” 。\n",
    "\n",
    "因此，在基于邻居采样的边分类中，用户有时会希望从采样得到的小批次图中删去部分边及其对应的反向边。  \n",
    "用户可以在实例化 EdgeDataLoader 时设置 exclude='reverse_id'，同时将边ID映射到其反向边ID。   \n",
    "通常这样做会导致采样过程变慢很多，这是因为DGL要定位并删除包含在小批次中的反向边。"
   ]
  },
  {
   "cell_type": "code",
   "execution_count": null,
   "id": "0fbaacd3",
   "metadata": {},
   "outputs": [],
   "source": [
    "n_edges = g.number_of_edges()\n",
    "dataloader = dgl.dataloading.EdgeDataLoader(\n",
    "    g, train_eid_dict, sampler,\n",
    "\n",
    "    # 下面的两个参数专门用于在邻居采样时删除小批次的一些边和它们的反向边\n",
    "    exclude='reverse_id',\n",
    "    reverse_eids=torch.cat([\n",
    "        torch.arange(n_edges // 2, n_edges), torch.arange(0, n_edges // 2)]),\n",
    "\n",
    "    batch_size=1024,\n",
    "    shuffle=True,\n",
    "    drop_last=False,\n",
    "    num_workers=4)"
   ]
  },
  {
   "cell_type": "markdown",
   "id": "237662ba",
   "metadata": {},
   "source": [
    "#### 调整模型以适用小批次训练"
   ]
  },
  {
   "cell_type": "markdown",
   "id": "80333f2e",
   "metadata": {},
   "source": [
    "边分类模型通常由两部分组成：\n",
    "\n",
    "1. 获取边两端节点的表示。\n",
    "\n",
    "2. 用边两端节点表示为每个类别打分。"
   ]
  },
  {
   "cell_type": "code",
   "execution_count": null,
   "id": "b1308827",
   "metadata": {},
   "outputs": [],
   "source": [
    "class StochasticTwoLayerGCN(nn.Module):\n",
    "    def __init__(self, in_features, hidden_features, out_features):\n",
    "        super().__init__()\n",
    "        self.conv1 = dglnn.GraphConv(in_features, hidden_features)\n",
    "        self.conv2 = dglnn.GraphConv(hidden_features, out_features)\n",
    "\n",
    "    def forward(self, blocks, x):\n",
    "        x = F.relu(self.conv1(blocks[0], x))\n",
    "        x = F.relu(self.conv2(blocks[1], x))\n",
    "        return x"
   ]
  },
  {
   "cell_type": "code",
   "execution_count": 3,
   "id": "2668bbd4",
   "metadata": {},
   "outputs": [],
   "source": [
    "class ScorePredictor(nn.Module):\n",
    "    def __init__(self, num_classes, in_features):\n",
    "        super().__init__()\n",
    "        self.W = nn.Linear(2 * in_features, num_classes)\n",
    "\n",
    "    def apply_edges(self, edges):\n",
    "        data = torch.cat([edges.src['x'], edges.dst['x']])\n",
    "        return {'score': self.W(data)}\n",
    "\n",
    "    def forward(self, edge_subgraph, x):\n",
    "        with edge_subgraph.local_scope():\n",
    "            edge_subgraph.ndata['x'] = x\n",
    "            edge_subgraph.apply_edges(self.apply_edges)\n",
    "            return edge_subgraph.edata['score']"
   ]
  },
  {
   "cell_type": "markdown",
   "id": "43e95835",
   "metadata": {},
   "source": [
    "模型接受数据加载器生成的块列表、边子图以及输入节点特征进行前向传播，如下所示"
   ]
  },
  {
   "cell_type": "code",
   "execution_count": null,
   "id": "99ed9c72",
   "metadata": {},
   "outputs": [],
   "source": [
    "class Model(nn.Module):\n",
    "    def __init__(self, in_features, hidden_features, out_features, num_classes):\n",
    "        super().__init__()\n",
    "        self.gcn = StochasticTwoLayerGCN(\n",
    "            in_features, hidden_features, out_features)\n",
    "        self.predictor = ScorePredictor(num_classes, out_features)\n",
    "\n",
    "    def forward(self, edge_subgraph, blocks, x):\n",
    "        x = self.gcn(blocks, x)\n",
    "        return self.predictor(edge_subgraph, x)"
   ]
  },
  {
   "cell_type": "markdown",
   "id": "96c0846c",
   "metadata": {},
   "source": [
    "模型的训练"
   ]
  },
  {
   "cell_type": "code",
   "execution_count": null,
   "id": "1e059517",
   "metadata": {},
   "outputs": [],
   "source": [
    "model = Model(in_features, hidden_features, out_features, num_classes)\n",
    "model = model.cuda()\n",
    "opt = torch.optim.Adam(model.parameters())\n",
    "\n",
    "for input_nodes, edge_subgraph, blocks in dataloader:\n",
    "    blocks = [b.to(torch.device('cuda')) for b in blocks]\n",
    "    edge_subgraph = edge_subgraph.to(torch.device('cuda'))\n",
    "    input_features = blocks[0].srcdata['features']\n",
    "    edge_labels = edge_subgraph.edata['labels']\n",
    "    edge_predictions = model(edge_subgraph, blocks, input_features)\n",
    "    loss = compute_loss(edge_labels, edge_predictions)\n",
    "    opt.zero_grad()\n",
    "    loss.backward()\n",
    "    opt.step()"
   ]
  }
 ],
 "metadata": {
  "kernelspec": {
   "display_name": "Python 3",
   "language": "python",
   "name": "python3"
  },
  "language_info": {
   "codemirror_mode": {
    "name": "ipython",
    "version": 3
   },
   "file_extension": ".py",
   "mimetype": "text/x-python",
   "name": "python",
   "nbconvert_exporter": "python",
   "pygments_lexer": "ipython3",
   "version": "3.7.0"
  }
 },
 "nbformat": 4,
 "nbformat_minor": 5
}
