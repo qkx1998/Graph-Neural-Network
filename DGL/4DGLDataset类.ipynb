{
 "cells": [
  {
   "cell_type": "code",
   "execution_count": 1,
   "id": "4a642da3",
   "metadata": {},
   "outputs": [
    {
     "name": "stderr",
     "output_type": "stream",
     "text": [
      "C:\\Users\\18438\\AppData\\Local\\Continuum\\anaconda3\\envs\\dgl\\lib\\site-packages\\numpy\\_distributor_init.py:30: UserWarning: loaded more than 1 DLL from .libs:\n",
      "C:\\Users\\18438\\AppData\\Local\\Continuum\\anaconda3\\envs\\dgl\\lib\\site-packages\\numpy\\.libs\\libopenblas.EL2C6PLE4ZYW3ECEVIV3OXXGRN2NRFM2.gfortran-win_amd64.dll\n",
      "C:\\Users\\18438\\AppData\\Local\\Continuum\\anaconda3\\envs\\dgl\\lib\\site-packages\\numpy\\.libs\\libopenblas.GK7GX5KEQ4F6UYO3P26ULGBQYHGQO7J4.gfortran-win_amd64.dll\n",
      "  warnings.warn(\"loaded more than 1 DLL from .libs:\"\n",
      "Using backend: pytorch\n"
     ]
    }
   ],
   "source": [
    "from dgl.data import DGLDataset\n",
    "\n",
    "class MyDataset(DGLDataset):\n",
    "    \"\"\" 用于在DGL中自定义图数据集的模板：\n",
    "\n",
    "    Parameters\n",
    "    ----------\n",
    "    url : str\n",
    "        下载原始数据集的url。\n",
    "    raw_dir : str\n",
    "        指定下载数据的存储目录或已下载数据的存储目录。默认: ~/.dgl/\n",
    "    save_dir : str\n",
    "        处理完成的数据集的保存目录。默认：raw_dir指定的值\n",
    "    force_reload : bool\n",
    "        是否重新导入数据集。默认：False\n",
    "    verbose : bool\n",
    "        是否打印进度信息。\n",
    "    \"\"\"\n",
    "    def __init__(self,\n",
    "                 url=None,\n",
    "                 raw_dir=None,\n",
    "                 save_dir=None,\n",
    "                 force_reload=False,\n",
    "                 verbose=False):\n",
    "        super(MyDataset, self).__init__(name='dataset_name',\n",
    "                                        url=url,\n",
    "                                        raw_dir=raw_dir,\n",
    "                                        save_dir=save_dir,\n",
    "                                        force_reload=force_reload,\n",
    "                                        verbose=verbose)\n",
    "\n",
    "    def download(self):\n",
    "        # 将原始数据下载到本地磁盘\n",
    "        pass\n",
    "\n",
    "  \n",
    "    def process(self):\n",
    "        # 数据处理部分\n",
    "        pass\n",
    "\n",
    "    def __getitem__(self, idx):\n",
    "        # 通过idx得到与之对应的一个样本\n",
    "        pass\n",
    "\n",
    "    def __len__(self):\n",
    "        # 数据样本的数量\n",
    "        pass\n",
    "\n",
    "    def save(self):\n",
    "        # 将处理后的数据保存至 `self.save_path`\n",
    "        pass\n",
    "\n",
    "    def load(self):\n",
    "        # 从 `self.save_path` 导入处理后的数据\n",
    "        pass\n",
    "\n",
    "    def has_cache(self):\n",
    "        # 检查在 `self.save_path` 中是否存有处理后的数据\n",
    "        pass"
   ]
  },
  {
   "cell_type": "markdown",
   "id": "e527a0b7",
   "metadata": {},
   "source": [
    "数据的保存和读取 "
   ]
  },
  {
   "cell_type": "code",
   "execution_count": null,
   "id": "9ff0ee56",
   "metadata": {},
   "outputs": [],
   "source": [
    "import os\n",
    "from dgl import save_graphs, load_graphs\n",
    "from dgl.data.utils import makedirs, save_info, load_info\n",
    "\n",
    "def save(self):\n",
    "    # 保存图和标签\n",
    "    graph_path = os.path.join(self.save_path, self.mode + '_dgl_graph.bin')\n",
    "    save_graphs(graph_path, self.graphs, {'labels': self.labels})\n",
    "    # 在Python字典里保存其他信息\n",
    "    info_path = os.path.join(self.save_path, self.mode + '_info.pkl')\n",
    "    save_info(info_path, {'num_classes': self.num_classes})\n",
    "\n",
    "def load(self):\n",
    "    # 从目录 `self.save_path` 里读取处理过的数据\n",
    "    graph_path = os.path.join(self.save_path, self.mode + '_dgl_graph.bin')\n",
    "    self.graphs, label_dict = load_graphs(graph_path)\n",
    "    self.labels = label_dict['labels']\n",
    "    info_path = os.path.join(self.save_path, self.mode + '_info.pkl')\n",
    "    self.num_classes = load_info(info_path)['num_classes']\n",
    "\n",
    "def has_cache(self):\n",
    "    # 检查在 `self.save_path` 里是否有处理过的数据文件\n",
    "    graph_path = os.path.join(self.save_path, self.mode + '_dgl_graph.bin')\n",
    "    info_path = os.path.join(self.save_path, self.mode + '_info.pkl')\n",
    "    return os.path.exists(graph_path) and os.path.exists(info_path)"
   ]
  }
 ],
 "metadata": {
  "kernelspec": {
   "display_name": "DGL",
   "language": "python",
   "name": "dgl"
  },
  "language_info": {
   "codemirror_mode": {
    "name": "ipython",
    "version": 3
   },
   "file_extension": ".py",
   "mimetype": "text/x-python",
   "name": "python",
   "nbconvert_exporter": "python",
   "pygments_lexer": "ipython3",
   "version": "3.8.5"
  }
 },
 "nbformat": 4,
 "nbformat_minor": 5
}
