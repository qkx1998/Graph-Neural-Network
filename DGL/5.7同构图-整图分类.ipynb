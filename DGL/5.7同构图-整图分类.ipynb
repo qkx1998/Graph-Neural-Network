{
 "cells": [
  {
   "cell_type": "markdown",
   "id": "c905ee5f",
   "metadata": {},
   "source": [
    "#### **整图分类流程**：\n",
    "\n",
    "step 1: 准备一个批次的图；\n",
    "\n",
    "step 2: 在这个批次的图上进行消息传递以更新节点或边的特征；\n",
    "\n",
    "step 3: 将一张图里的节点或边特征聚合成整张图的图表示；\n",
    "\n",
    "step 4: 根据任务设计分类层。"
   ]
  },
  {
   "cell_type": "code",
   "execution_count": 1,
   "id": "e5ce1e8a",
   "metadata": {},
   "outputs": [
    {
     "name": "stderr",
     "output_type": "stream",
     "text": [
      "C:\\Users\\18438\\AppData\\Local\\Continuum\\anaconda3\\envs\\dgl\\lib\\site-packages\\numpy\\_distributor_init.py:30: UserWarning: loaded more than 1 DLL from .libs:\n",
      "C:\\Users\\18438\\AppData\\Local\\Continuum\\anaconda3\\envs\\dgl\\lib\\site-packages\\numpy\\.libs\\libopenblas.EL2C6PLE4ZYW3ECEVIV3OXXGRN2NRFM2.gfortran-win_amd64.dll\n",
      "C:\\Users\\18438\\AppData\\Local\\Continuum\\anaconda3\\envs\\dgl\\lib\\site-packages\\numpy\\.libs\\libopenblas.GK7GX5KEQ4F6UYO3P26ULGBQYHGQO7J4.gfortran-win_amd64.dll\n",
      "  warnings.warn(\"loaded more than 1 DLL from .libs:\"\n",
      "Using backend: pytorch\n"
     ]
    },
    {
     "data": {
      "text/plain": [
       "tensor([3., 6.])"
      ]
     },
     "execution_count": 1,
     "metadata": {},
     "output_type": "execute_result"
    }
   ],
   "source": [
    "import dgl\n",
    "import torch\n",
    "\n",
    "g1 = dgl.graph(([0, 1], [1, 0]))\n",
    "g1.ndata['h'] = torch.tensor([1., 2.])\n",
    "g2 = dgl.graph(([0, 1], [1, 2]))\n",
    "g2.ndata['h'] = torch.tensor([1., 2., 3.])\n",
    "\n",
    "dgl.readout_nodes(g1, 'h')\n",
    "\n",
    "bg = dgl.batch([g1, g2])\n",
    "dgl.readout_nodes(bg, 'h')"
   ]
  },
  {
   "cell_type": "markdown",
   "id": "775fd903",
   "metadata": {},
   "source": [
    "最后，批次化图中的每个节点或边特征张量均通过将所有图上的相应特征拼接得到。"
   ]
  },
  {
   "cell_type": "code",
   "execution_count": 2,
   "id": "18643989",
   "metadata": {},
   "outputs": [
    {
     "data": {
      "text/plain": [
       "tensor([1., 2., 1., 2., 3.])"
      ]
     },
     "execution_count": 2,
     "metadata": {},
     "output_type": "execute_result"
    }
   ],
   "source": [
    "bg.ndata['h']"
   ]
  },
  {
   "cell_type": "markdown",
   "id": "34cd1216",
   "metadata": {},
   "source": [
    "模型定义"
   ]
  },
  {
   "cell_type": "code",
   "execution_count": 3,
   "id": "b1861d9d",
   "metadata": {},
   "outputs": [],
   "source": [
    "import dgl.nn.pytorch as dglnn\n",
    "import torch.nn as nn\n",
    "\n",
    "class Classifier(nn.Module):\n",
    "    def __init__(self, in_dim, hidden_dim, n_classes):\n",
    "        super(Classifier, self).__init__()\n",
    "        self.conv1 = dglnn.GraphConv(in_dim, hidden_dim)\n",
    "        self.conv2 = dglnn.GraphConv(hidden_dim, hidden_dim)\n",
    "        self.classify = nn.Linear(hidden_dim, n_classes)\n",
    "\n",
    "    def forward(self, g, h):\n",
    "        # 应用图卷积和激活函数\n",
    "        h = F.relu(self.conv1(g, h))\n",
    "        h = F.relu(self.conv2(g, h))\n",
    "        with g.local_scope():\n",
    "            g.ndata['h'] = h\n",
    "            # 使用平均读出计算图表示\n",
    "            hg = dgl.mean_nodes(g, 'h')\n",
    "            return self.classify(hg)"
   ]
  },
  {
   "cell_type": "markdown",
   "id": "355e7e8a",
   "metadata": {},
   "source": [
    "数据加载, 使用自带的整图分类数据集。"
   ]
  },
  {
   "cell_type": "code",
   "execution_count": 8,
   "id": "f361b358",
   "metadata": {},
   "outputs": [],
   "source": [
    "import dgl.data\n",
    "dataset = dgl.data.GINDataset('MUTAG', False)"
   ]
  },
  {
   "cell_type": "markdown",
   "id": "974b3e81",
   "metadata": {},
   "source": [
    "整图分类数据集里的每个数据点是一个图和它对应标签的元组。  \n",
    "为提升数据加载速度， 用户可以调用GraphDataLoader，从而以小批次遍历整个图数据集。"
   ]
  },
  {
   "cell_type": "code",
   "execution_count": null,
   "id": "eeacce12",
   "metadata": {},
   "outputs": [],
   "source": [
    "from dgl.dataloading import GraphDataLoader\n",
    "dataloader = GraphDataLoader(\n",
    "    dataset,\n",
    "    batch_size=1024,\n",
    "    drop_last=False,\n",
    "    shuffle=True)"
   ]
  },
  {
   "cell_type": "markdown",
   "id": "127e93e0",
   "metadata": {},
   "source": [
    "训练过程包括遍历dataloader和更新模型参数的部分"
   ]
  },
  {
   "cell_type": "code",
   "execution_count": null,
   "id": "bceb1ed1",
   "metadata": {},
   "outputs": [],
   "source": [
    "import torch.nn.functional as F\n",
    "\n",
    "# 这仅是个例子，特征尺寸是7\n",
    "model = Classifier(7, 20, 5)\n",
    "opt = torch.optim.Adam(model.parameters())\n",
    "for epoch in range(20):\n",
    "    for batched_graph, labels in dataloader:\n",
    "        feats = batched_graph.ndata['attr']\n",
    "        logits = model(batched_graph, feats)\n",
    "        loss = F.cross_entropy(logits, labels)\n",
    "        opt.zero_grad()\n",
    "        loss.backward()\n",
    "        opt.step()"
   ]
  }
 ],
 "metadata": {
  "kernelspec": {
   "display_name": "DGL",
   "language": "python",
   "name": "dgl"
  },
  "language_info": {
   "codemirror_mode": {
    "name": "ipython",
    "version": 3
   },
   "file_extension": ".py",
   "mimetype": "text/x-python",
   "name": "python",
   "nbconvert_exporter": "python",
   "pygments_lexer": "ipython3",
   "version": "3.8.5"
  }
 },
 "nbformat": 4,
 "nbformat_minor": 5
}
