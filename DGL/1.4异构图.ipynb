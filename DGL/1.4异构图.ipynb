{
 "cells": [
  {
   "cell_type": "code",
   "execution_count": 1,
   "id": "fccddf0c",
   "metadata": {},
   "outputs": [
    {
     "name": "stderr",
     "output_type": "stream",
     "text": [
      "C:\\Users\\18438\\AppData\\Local\\Continuum\\anaconda3\\envs\\dgl\\lib\\site-packages\\numpy\\_distributor_init.py:30: UserWarning: loaded more than 1 DLL from .libs:\n",
      "C:\\Users\\18438\\AppData\\Local\\Continuum\\anaconda3\\envs\\dgl\\lib\\site-packages\\numpy\\.libs\\libopenblas.EL2C6PLE4ZYW3ECEVIV3OXXGRN2NRFM2.gfortran-win_amd64.dll\n",
      "C:\\Users\\18438\\AppData\\Local\\Continuum\\anaconda3\\envs\\dgl\\lib\\site-packages\\numpy\\.libs\\libopenblas.GK7GX5KEQ4F6UYO3P26ULGBQYHGQO7J4.gfortran-win_amd64.dll\n",
      "  warnings.warn(\"loaded more than 1 DLL from .libs:\"\n",
      "Using backend: pytorch\n"
     ]
    }
   ],
   "source": [
    "import dgl \n",
    "import torch as th"
   ]
  },
  {
   "cell_type": "code",
   "execution_count": 2,
   "id": "da04bdc9",
   "metadata": {},
   "outputs": [
    {
     "data": {
      "text/plain": [
       "['disease', 'drug', 'gene']"
      ]
     },
     "execution_count": 2,
     "metadata": {},
     "output_type": "execute_result"
    }
   ],
   "source": [
    "# 创建一个具有3种节点类型和3种边类型的异构图\n",
    "# ('drug', 'interacts', 'drug') 括号的第一位和第三位分别表示实体，中间第二位表示二者的关系\n",
    "graph_data = {\n",
    "   ('drug', 'interacts', 'drug'): (th.tensor([0, 1]), th.tensor([1, 2])),\n",
    "   ('drug', 'interacts', 'gene'): (th.tensor([0, 1]), th.tensor([2, 3])),\n",
    "   ('drug', 'treats', 'disease'): (th.tensor([1]), th.tensor([2]))\n",
    "}\n",
    "g = dgl.heterograph(graph_data)\n",
    "g.ntypes"
   ]
  },
  {
   "cell_type": "code",
   "execution_count": 3,
   "id": "e7366a8a",
   "metadata": {},
   "outputs": [
    {
     "data": {
      "text/plain": [
       "['interacts', 'interacts', 'treats']"
      ]
     },
     "execution_count": 3,
     "metadata": {},
     "output_type": "execute_result"
    }
   ],
   "source": [
    "g.etypes"
   ]
  },
  {
   "cell_type": "code",
   "execution_count": 4,
   "id": "255db01f",
   "metadata": {},
   "outputs": [
    {
     "data": {
      "text/plain": [
       "[('drug', 'interacts', 'drug'),\n",
       " ('drug', 'interacts', 'gene'),\n",
       " ('drug', 'treats', 'disease')]"
      ]
     },
     "execution_count": 4,
     "metadata": {},
     "output_type": "execute_result"
    }
   ],
   "source": [
    "g.canonical_etypes"
   ]
  },
  {
   "cell_type": "markdown",
   "id": "3e19f560",
   "metadata": {},
   "source": [
    "同构图和二分图只是一种特殊的异构图，它们只包括一种关系。"
   ]
  },
  {
   "cell_type": "code",
   "execution_count": 6,
   "id": "32603117",
   "metadata": {},
   "outputs": [],
   "source": [
    "# 一个同构图\n",
    "# dgl.heterograph({('node_type', 'edge_type', 'node_type'): (u, v)})\n",
    "\n",
    "# 一个二分图\n",
    "# dgl.heterograph({('source_type', 'edge_type', 'destination_type'): (u, v)})"
   ]
  },
  {
   "cell_type": "markdown",
   "id": "a2ce105f",
   "metadata": {},
   "source": [
    "与异构图相关联的 metagraph 就是图的模式。  \n",
    "它指定节点集和节点之间的边的类型约束。   \n",
    "metagraph 中的一个节点 u 对应于相关异构图中的一个节点类型。  \n",
    "metagraph 中的边 (u,v) 表示在相关异构图中存在从 u 型节点到 v 型节点的边。"
   ]
  },
  {
   "cell_type": "code",
   "execution_count": 7,
   "id": "2ebb99ad",
   "metadata": {},
   "outputs": [
    {
     "data": {
      "text/plain": [
       "Graph(num_nodes={'disease': 3, 'drug': 3, 'gene': 4},\n",
       "      num_edges={('drug', 'interacts', 'drug'): 2, ('drug', 'interacts', 'gene'): 2, ('drug', 'treats', 'disease'): 1},\n",
       "      metagraph=[('drug', 'drug', 'interacts'), ('drug', 'gene', 'interacts'), ('drug', 'disease', 'treats')])"
      ]
     },
     "execution_count": 7,
     "metadata": {},
     "output_type": "execute_result"
    }
   ],
   "source": [
    "g"
   ]
  },
  {
   "cell_type": "code",
   "execution_count": 8,
   "id": "f3728c57",
   "metadata": {},
   "outputs": [
    {
     "data": {
      "text/plain": [
       "OutMultiEdgeDataView([('drug', 'drug'), ('drug', 'gene'), ('drug', 'disease')])"
      ]
     },
     "execution_count": 8,
     "metadata": {},
     "output_type": "execute_result"
    }
   ],
   "source": [
    "g.metagraph().edges()"
   ]
  },
  {
   "cell_type": "code",
   "execution_count": 10,
   "id": "9dba497b",
   "metadata": {},
   "outputs": [
    {
     "data": {
      "text/plain": [
       "tensor([0, 1, 2])"
      ]
     },
     "execution_count": 10,
     "metadata": {},
     "output_type": "execute_result"
    }
   ],
   "source": [
    "# 直接获取图中的所有节点会报错，需要指定获取哪种节点类型的节点\n",
    "# 获取图中drug的节点\n",
    "g.nodes('drug')"
   ]
  },
  {
   "cell_type": "code",
   "execution_count": 11,
   "id": "3f9b2a54",
   "metadata": {},
   "outputs": [
    {
     "name": "stdout",
     "output_type": "stream",
     "text": [
      "10\n",
      "3\n"
     ]
    }
   ],
   "source": [
    "# 获取图中所有节点的数量\n",
    "print(g.num_nodes())\n",
    "\n",
    "# 获取图中drug节点的数量\n",
    "print(g.num_nodes('drug'))"
   ]
  },
  {
   "cell_type": "markdown",
   "id": "2c4dc4ee",
   "metadata": {},
   "source": [
    "获取特定的节点或边的特征"
   ]
  },
  {
   "cell_type": "code",
   "execution_count": 15,
   "id": "95da0932",
   "metadata": {},
   "outputs": [
    {
     "data": {
      "text/plain": [
       "tensor([[1.],\n",
       "        [1.],\n",
       "        [1.]])"
      ]
     },
     "execution_count": 15,
     "metadata": {},
     "output_type": "execute_result"
    }
   ],
   "source": [
    "# 设置/获取\"drug\"类型的节点的\"hv\"特征\n",
    "g.nodes['drug'].data['hv'] = th.ones(3, 1)\n",
    "g.nodes['drug'].data['hv']"
   ]
  },
  {
   "cell_type": "code",
   "execution_count": 16,
   "id": "746d92f8",
   "metadata": {},
   "outputs": [
    {
     "data": {
      "text/plain": [
       "tensor([[0.]])"
      ]
     },
     "execution_count": 16,
     "metadata": {},
     "output_type": "execute_result"
    }
   ],
   "source": [
    "# 设置/获取\"treats\"类型的边的\"he\"特征\n",
    "g.edges['treats'].data['he'] = th.zeros(1, 1)\n",
    "g.edges['treats'].data['he']"
   ]
  },
  {
   "cell_type": "markdown",
   "id": "33e9eb31",
   "metadata": {},
   "source": [
    "如果图里只有一种节点或边类型，则不需要指定节点或边的类型。"
   ]
  },
  {
   "cell_type": "code",
   "execution_count": 17,
   "id": "1064d163",
   "metadata": {},
   "outputs": [],
   "source": [
    "g = dgl.heterograph({\n",
    "   ('drug', 'interacts', 'drug'): (th.tensor([0, 1]), th.tensor([1, 2])),\n",
    "   ('drug', 'is similar', 'drug'): (th.tensor([0, 1]), th.tensor([2, 3]))\n",
    "})\n",
    "\n",
    "g.ndata['hv'] = th.ones(4, 1)"
   ]
  },
  {
   "cell_type": "markdown",
   "id": "437058e5",
   "metadata": {},
   "source": [
    "从原图中创建子图"
   ]
  },
  {
   "cell_type": "code",
   "execution_count": 18,
   "id": "5ef64eb8",
   "metadata": {},
   "outputs": [],
   "source": [
    "# 原图\n",
    "g = dgl.heterograph({\n",
    "   ('drug', 'interacts', 'drug'): (th.tensor([0, 1]), th.tensor([1, 2])),\n",
    "   ('drug', 'interacts', 'gene'): (th.tensor([0, 1]), th.tensor([2, 3])),\n",
    "   ('drug', 'treats', 'disease'): (th.tensor([1]), th.tensor([2]))\n",
    "    })\n",
    "\n",
    "g.nodes['drug'].data['hv'] = th.ones(3, 1)"
   ]
  },
  {
   "cell_type": "code",
   "execution_count": 22,
   "id": "d430b2e3",
   "metadata": {},
   "outputs": [
    {
     "data": {
      "text/plain": [
       "Graph(num_nodes={'disease': 3, 'drug': 3, 'gene': 4},\n",
       "      num_edges={('drug', 'interacts', 'drug'): 2, ('drug', 'interacts', 'gene'): 2, ('drug', 'treats', 'disease'): 1},\n",
       "      metagraph=[('drug', 'drug', 'interacts'), ('drug', 'gene', 'interacts'), ('drug', 'disease', 'treats')])"
      ]
     },
     "execution_count": 22,
     "metadata": {},
     "output_type": "execute_result"
    }
   ],
   "source": [
    "g"
   ]
  },
  {
   "cell_type": "code",
   "execution_count": 19,
   "id": "d6fb498b",
   "metadata": {},
   "outputs": [],
   "source": [
    "# 创建子图，保留关系 ('drug', 'interacts', 'drug') 和 ('drug', 'treats', 'disease')\n",
    "eg = dgl.edge_type_subgraph(g, [('drug', 'interacts', 'drug'),\n",
    "                                ('drug', 'treats', 'disease')])"
   ]
  },
  {
   "cell_type": "code",
   "execution_count": 20,
   "id": "79680fee",
   "metadata": {},
   "outputs": [
    {
     "data": {
      "text/plain": [
       "Graph(num_nodes={'disease': 3, 'drug': 3},\n",
       "      num_edges={('drug', 'interacts', 'drug'): 2, ('drug', 'treats', 'disease'): 1},\n",
       "      metagraph=[('drug', 'drug', 'interacts'), ('drug', 'disease', 'treats')])"
      ]
     },
     "execution_count": 20,
     "metadata": {},
     "output_type": "execute_result"
    }
   ],
   "source": [
    "eg"
   ]
  },
  {
   "cell_type": "code",
   "execution_count": 21,
   "id": "deb1dc3a",
   "metadata": {},
   "outputs": [
    {
     "data": {
      "text/plain": [
       "tensor([[1.],\n",
       "        [1.],\n",
       "        [1.]])"
      ]
     },
     "execution_count": 21,
     "metadata": {},
     "output_type": "execute_result"
    }
   ],
   "source": [
    "# 相关的特征也会被拷贝\n",
    "eg.nodes['drug'].data['hv']"
   ]
  },
  {
   "cell_type": "markdown",
   "id": "84b21344",
   "metadata": {},
   "source": [
    "#### **将异构图转换为同构图**"
   ]
  },
  {
   "cell_type": "markdown",
   "id": "6dc8671d",
   "metadata": {},
   "source": [
    "异构图为管理不同类型的节点和边及其相关特征提供了一个清晰的接口。这在以下情况下尤其有用:\n",
    "\n",
    "1. 不同类型的节点和边的特征具有不同的数据类型或大小。\n",
    "\n",
    "2. 用户希望对不同类型的节点和边应用不同的操作。\n",
    "\n",
    "如果上述情况不适用，并且用户不希望在建模中区分节点和边的类型，则DGL允许使用 dgl.DGLGraph.to_homogeneous() API将异构图转换为同构图。 具体行为如下:\n",
    "\n",
    "1. 用从0开始的连续整数重新标记所有类型的节点和边。\n",
    "\n",
    "2. 对所有的节点和边合并用户指定的特征。"
   ]
  },
  {
   "cell_type": "code",
   "execution_count": 28,
   "id": "b2f9a9d7",
   "metadata": {},
   "outputs": [],
   "source": [
    "g = dgl.heterograph({\n",
    "                   ('drug', 'interacts', 'drug'): (th.tensor([0, 1]), th.tensor([1, 2])),\n",
    "                   ('drug', 'treats', 'disease'): (th.tensor([1]), th.tensor([2]))\n",
    "                    })\n",
    "\n",
    "g.nodes['drug'].data['hv'] = th.zeros(3, 1)\n",
    "g.nodes['disease'].data['hv'] = th.ones(3, 1)\n",
    "g.edges['interacts'].data['he'] = th.zeros(2, 1)\n",
    "g.edges['treats'].data['he'] = th.zeros(1, 2)"
   ]
  },
  {
   "cell_type": "code",
   "execution_count": 33,
   "id": "922c9b0c",
   "metadata": {},
   "outputs": [
    {
     "data": {
      "text/plain": [
       "Graph(num_nodes={'disease': 3, 'drug': 3},\n",
       "      num_edges={('drug', 'interacts', 'drug'): 2, ('drug', 'treats', 'disease'): 1},\n",
       "      metagraph=[('drug', 'drug', 'interacts'), ('drug', 'disease', 'treats')])"
      ]
     },
     "execution_count": 33,
     "metadata": {},
     "output_type": "execute_result"
    }
   ],
   "source": [
    "g"
   ]
  },
  {
   "cell_type": "code",
   "execution_count": 29,
   "id": "44cc581a",
   "metadata": {},
   "outputs": [
    {
     "data": {
      "text/plain": [
       "False"
      ]
     },
     "execution_count": 29,
     "metadata": {},
     "output_type": "execute_result"
    }
   ],
   "source": [
    "# 默认情况下不进行特征合并\n",
    "hg = dgl.to_homogeneous(g)\n",
    "'hv' in hg.ndata"
   ]
  },
  {
   "cell_type": "code",
   "execution_count": 32,
   "id": "fac04aa4",
   "metadata": {},
   "outputs": [
    {
     "data": {
      "text/plain": [
       "Graph(num_nodes=6, num_edges=3,\n",
       "      ndata_schemes={'hv': Scheme(shape=(1,), dtype=torch.float32), '_ID': Scheme(shape=(), dtype=torch.int64), '_TYPE': Scheme(shape=(), dtype=torch.int64)}\n",
       "      edata_schemes={'_ID': Scheme(shape=(), dtype=torch.int64), '_TYPE': Scheme(shape=(), dtype=torch.int64)})"
      ]
     },
     "execution_count": 32,
     "metadata": {},
     "output_type": "execute_result"
    }
   ],
   "source": [
    "hg"
   ]
  },
  {
   "cell_type": "code",
   "execution_count": 30,
   "id": "eec76f86",
   "metadata": {},
   "outputs": [
    {
     "ename": "DGLError",
     "evalue": "Cannot concatenate column he with shape Scheme(shape=(2,), dtype=torch.float32) and shape Scheme(shape=(1,), dtype=torch.float32)",
     "output_type": "error",
     "traceback": [
      "\u001b[1;31m---------------------------------------------------------------------------\u001b[0m",
      "\u001b[1;31mDGLError\u001b[0m                                  Traceback (most recent call last)",
      "\u001b[1;32m~\\AppData\\Local\\Temp/ipykernel_28436/2639759221.py\u001b[0m in \u001b[0;36m<module>\u001b[1;34m\u001b[0m\n\u001b[0;32m      1\u001b[0m \u001b[1;31m# 拷贝边的特征\u001b[0m\u001b[1;33m\u001b[0m\u001b[1;33m\u001b[0m\u001b[1;33m\u001b[0m\u001b[0m\n\u001b[0;32m      2\u001b[0m \u001b[1;31m# 对于要拷贝的特征，DGL假定不同类型的节点或边的需要合并的特征具有相同的大小和数据类型\u001b[0m\u001b[1;33m\u001b[0m\u001b[1;33m\u001b[0m\u001b[1;33m\u001b[0m\u001b[0m\n\u001b[1;32m----> 3\u001b[1;33m \u001b[0mhg\u001b[0m \u001b[1;33m=\u001b[0m \u001b[0mdgl\u001b[0m\u001b[1;33m.\u001b[0m\u001b[0mto_homogeneous\u001b[0m\u001b[1;33m(\u001b[0m\u001b[0mg\u001b[0m\u001b[1;33m,\u001b[0m \u001b[0medata\u001b[0m\u001b[1;33m=\u001b[0m\u001b[1;33m[\u001b[0m\u001b[1;34m'he'\u001b[0m\u001b[1;33m]\u001b[0m\u001b[1;33m)\u001b[0m\u001b[1;33m\u001b[0m\u001b[1;33m\u001b[0m\u001b[0m\n\u001b[0m",
      "\u001b[1;32m~\\AppData\\Local\\Continuum\\anaconda3\\envs\\dgl\\lib\\site-packages\\dgl\\convert.py\u001b[0m in \u001b[0;36mto_homogeneous\u001b[1;34m(G, ndata, edata, store_type, return_count)\u001b[0m\n\u001b[0;32m    935\u001b[0m         \u001b[0medata\u001b[0m \u001b[1;33m=\u001b[0m \u001b[1;33m[\u001b[0m\u001b[1;33m]\u001b[0m\u001b[1;33m\u001b[0m\u001b[1;33m\u001b[0m\u001b[0m\n\u001b[0;32m    936\u001b[0m     \u001b[0mcomb_nf\u001b[0m \u001b[1;33m=\u001b[0m \u001b[0mcombine_frames\u001b[0m\u001b[1;33m(\u001b[0m\u001b[0mG\u001b[0m\u001b[1;33m.\u001b[0m\u001b[0m_node_frames\u001b[0m\u001b[1;33m,\u001b[0m \u001b[0mrange\u001b[0m\u001b[1;33m(\u001b[0m\u001b[0mlen\u001b[0m\u001b[1;33m(\u001b[0m\u001b[0mG\u001b[0m\u001b[1;33m.\u001b[0m\u001b[0mntypes\u001b[0m\u001b[1;33m)\u001b[0m\u001b[1;33m)\u001b[0m\u001b[1;33m,\u001b[0m \u001b[0mcol_names\u001b[0m\u001b[1;33m=\u001b[0m\u001b[0mndata\u001b[0m\u001b[1;33m)\u001b[0m\u001b[1;33m\u001b[0m\u001b[1;33m\u001b[0m\u001b[0m\n\u001b[1;32m--> 937\u001b[1;33m     \u001b[0mcomb_ef\u001b[0m \u001b[1;33m=\u001b[0m \u001b[0mcombine_frames\u001b[0m\u001b[1;33m(\u001b[0m\u001b[0mG\u001b[0m\u001b[1;33m.\u001b[0m\u001b[0m_edge_frames\u001b[0m\u001b[1;33m,\u001b[0m \u001b[0mrange\u001b[0m\u001b[1;33m(\u001b[0m\u001b[0mlen\u001b[0m\u001b[1;33m(\u001b[0m\u001b[0mG\u001b[0m\u001b[1;33m.\u001b[0m\u001b[0metypes\u001b[0m\u001b[1;33m)\u001b[0m\u001b[1;33m)\u001b[0m\u001b[1;33m,\u001b[0m \u001b[0mcol_names\u001b[0m\u001b[1;33m=\u001b[0m\u001b[0medata\u001b[0m\u001b[1;33m)\u001b[0m\u001b[1;33m\u001b[0m\u001b[1;33m\u001b[0m\u001b[0m\n\u001b[0m\u001b[0;32m    938\u001b[0m     \u001b[1;32mif\u001b[0m \u001b[0mcomb_nf\u001b[0m \u001b[1;32mis\u001b[0m \u001b[1;32mnot\u001b[0m \u001b[1;32mNone\u001b[0m\u001b[1;33m:\u001b[0m\u001b[1;33m\u001b[0m\u001b[1;33m\u001b[0m\u001b[0m\n\u001b[0;32m    939\u001b[0m         \u001b[0mretg\u001b[0m\u001b[1;33m.\u001b[0m\u001b[0mndata\u001b[0m\u001b[1;33m.\u001b[0m\u001b[0mupdate\u001b[0m\u001b[1;33m(\u001b[0m\u001b[0mcomb_nf\u001b[0m\u001b[1;33m)\u001b[0m\u001b[1;33m\u001b[0m\u001b[1;33m\u001b[0m\u001b[0m\n",
      "\u001b[1;32m~\\AppData\\Local\\Continuum\\anaconda3\\envs\\dgl\\lib\\site-packages\\dgl\\heterograph.py\u001b[0m in \u001b[0;36mcombine_frames\u001b[1;34m(frames, ids, col_names)\u001b[0m\n\u001b[0;32m   5966\u001b[0m             \u001b[1;32mif\u001b[0m \u001b[0mkey\u001b[0m \u001b[1;32min\u001b[0m \u001b[0mframe\u001b[0m\u001b[1;33m.\u001b[0m\u001b[0mschemes\u001b[0m\u001b[1;33m:\u001b[0m\u001b[1;33m\u001b[0m\u001b[1;33m\u001b[0m\u001b[0m\n\u001b[0;32m   5967\u001b[0m                 \u001b[1;32mif\u001b[0m \u001b[0mframe\u001b[0m\u001b[1;33m.\u001b[0m\u001b[0mschemes\u001b[0m\u001b[1;33m[\u001b[0m\u001b[0mkey\u001b[0m\u001b[1;33m]\u001b[0m \u001b[1;33m!=\u001b[0m \u001b[0mscheme\u001b[0m\u001b[1;33m:\u001b[0m\u001b[1;33m\u001b[0m\u001b[1;33m\u001b[0m\u001b[0m\n\u001b[1;32m-> 5968\u001b[1;33m                     raise DGLError('Cannot concatenate column %s with shape %s and shape %s' %\n\u001b[0m\u001b[0;32m   5969\u001b[0m                                    (key, frame.schemes[key], scheme))\n\u001b[0;32m   5970\u001b[0m             \u001b[1;32melse\u001b[0m\u001b[1;33m:\u001b[0m\u001b[1;33m\u001b[0m\u001b[1;33m\u001b[0m\u001b[0m\n",
      "\u001b[1;31mDGLError\u001b[0m: Cannot concatenate column he with shape Scheme(shape=(2,), dtype=torch.float32) and shape Scheme(shape=(1,), dtype=torch.float32)"
     ]
    }
   ],
   "source": [
    "# 拷贝边的特征\n",
    "# 对于要拷贝的特征，DGL假定不同类型的节点或边的需要合并的特征具有相同的大小和数据类型\n",
    "hg = dgl.to_homogeneous(g, edata=['he'])"
   ]
  },
  {
   "cell_type": "code",
   "execution_count": 31,
   "id": "3509d484",
   "metadata": {},
   "outputs": [
    {
     "data": {
      "text/plain": [
       "tensor([[1.],\n",
       "        [1.],\n",
       "        [1.],\n",
       "        [0.],\n",
       "        [0.],\n",
       "        [0.]])"
      ]
     },
     "execution_count": 31,
     "metadata": {},
     "output_type": "execute_result"
    }
   ],
   "source": [
    "# 拷贝节点特征\n",
    "hg = dgl.to_homogeneous(g, ndata=['hv'])\n",
    "hg.ndata['hv']"
   ]
  },
  {
   "cell_type": "markdown",
   "id": "ca8fcd6f",
   "metadata": {},
   "source": [
    "出于建模的目的，用户可能需要将一些关系合并，并对它们应用相同的操作。为了实现这一目的，可以先抽取异构图的边类型子图，然后将该子图转换为同构图。"
   ]
  },
  {
   "cell_type": "code",
   "execution_count": 34,
   "id": "99fb0b0a",
   "metadata": {},
   "outputs": [
    {
     "data": {
      "text/plain": [
       "Graph(num_nodes=7, num_edges=4,\n",
       "      ndata_schemes={'_ID': Scheme(shape=(), dtype=torch.int64), '_TYPE': Scheme(shape=(), dtype=torch.int64)}\n",
       "      edata_schemes={'_ID': Scheme(shape=(), dtype=torch.int64), '_TYPE': Scheme(shape=(), dtype=torch.int64)})"
      ]
     },
     "execution_count": 34,
     "metadata": {},
     "output_type": "execute_result"
    }
   ],
   "source": [
    "g = dgl.heterograph({\n",
    "   ('drug', 'interacts', 'drug'): (th.tensor([0, 1]), th.tensor([1, 2])),\n",
    "   ('drug', 'interacts', 'gene'): (th.tensor([0, 1]), th.tensor([2, 3])),\n",
    "   ('drug', 'treats', 'disease'): (th.tensor([1]), th.tensor([2]))\n",
    "})\n",
    "sub_g = dgl.edge_type_subgraph(g, [('drug', 'interacts', 'drug'),\n",
    "                                   ('drug', 'interacts', 'gene')])\n",
    "h_sub_g = dgl.to_homogeneous(sub_g)\n",
    "h_sub_g"
   ]
  },
  {
   "cell_type": "code",
   "execution_count": null,
   "id": "e777dabc",
   "metadata": {},
   "outputs": [],
   "source": []
  }
 ],
 "metadata": {
  "kernelspec": {
   "display_name": "DGL",
   "language": "python",
   "name": "dgl"
  },
  "language_info": {
   "codemirror_mode": {
    "name": "ipython",
    "version": 3
   },
   "file_extension": ".py",
   "mimetype": "text/x-python",
   "name": "python",
   "nbconvert_exporter": "python",
   "pygments_lexer": "ipython3",
   "version": "3.8.5"
  }
 },
 "nbformat": 4,
 "nbformat_minor": 5
}
